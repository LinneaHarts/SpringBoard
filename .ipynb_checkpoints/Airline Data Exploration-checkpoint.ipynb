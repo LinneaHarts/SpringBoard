{
 "cells": [
  {
   "cell_type": "code",
   "execution_count": 1,
   "metadata": {},
   "outputs": [
    {
     "name": "stdout",
     "output_type": "stream",
     "text": [
      "Connected to MySQL Server version  5.7.19-log\n",
      "You're connected to database:  ('watt_db',)\n"
     ]
    }
   ],
   "source": [
    "import mysql.connector\n",
    "from mysql.connector import Error\n",
    "\n",
    "try:\n",
    "    connection = mysql.connector.connect(host='wattawsdb01.cztrsaytzops.us-east-1.rds.amazonaws.com',\n",
    "                                         database='watt_db',\n",
    "                                         user='linnea',\n",
    "                                         password='XandB00bs')\n",
    "    if connection.is_connected():\n",
    "        db_Info = connection.get_server_info()\n",
    "        print(\"Connected to MySQL Server version \", db_Info)\n",
    "        cursor = connection.cursor()\n",
    "        cursor.execute(\"select database();\")\n",
    "        record = cursor.fetchone()\n",
    "        print(\"You're connected to database: \", record)\n",
    "\n",
    "except Error as e:\n",
    "    print(\"Error while connecting to MySQL\", e)\n",
    "#finally:\n",
    "#    if (connection.is_connected()):\n",
    "#        cursor.close()\n",
    "#        connection.close()\n",
    "#        print(\"MySQL connection is closed\")"
   ]
  },
  {
   "cell_type": "code",
   "execution_count": 2,
   "metadata": {},
   "outputs": [
    {
     "name": "stdout",
     "output_type": "stream",
     "text": [
      "Total number of rows in airports is : 9959\n"
     ]
    }
   ],
   "source": [
    "sql_select_Query = \"select flDate, skedDep, actDep, flD from bts_data where flDate between '2019-11-01' and '2019-11-30' and flO='JFK'\"\n",
    "cursor = connection.cursor()\n",
    "cursor.execute(sql_select_Query)\n",
    "records = cursor.fetchall()\n",
    "print(\"Total number of rows in airports is :\", cursor.rowcount)\n",
    "#print(records)"
   ]
  },
  {
   "cell_type": "code",
   "execution_count": 3,
   "metadata": {},
   "outputs": [
    {
     "name": "stdout",
     "output_type": "stream",
     "text": [
      "          flDate  skedDep  actDep  flD\n",
      "0     2019-11-01      480     474  LAX\n",
      "1     2019-11-01      750     741  LAX\n",
      "2     2019-11-01     1290    1309  LAX\n",
      "3     2019-11-01      420     417  SFO\n",
      "4     2019-11-01      360     359  LAX\n",
      "...          ...      ...     ...  ...\n",
      "9954  2019-11-30     1220    1243  CMH\n",
      "9955  2019-11-30      895     889  CMH\n",
      "9956  2019-11-30      665     659  DCA\n",
      "9957  2019-11-30      749     739  BOS\n",
      "9958  2019-11-30      600     586  HNL\n",
      "\n",
      "[9959 rows x 4 columns]\n"
     ]
    }
   ],
   "source": [
    "import pandas as pd\n",
    "import matplotlib.pyplot as plt\n",
    "import seaborn as sns\n",
    "df = pd.DataFrame(records)\n",
    "df.columns = ['flDate', 'skedDep', 'actDep', 'flD']\n",
    "print(df)\n",
    "#print(df[1:2].diff(axis=1))\n",
    "#plt.hist()"
   ]
  },
  {
   "cell_type": "code",
   "execution_count": 6,
   "metadata": {},
   "outputs": [
    {
     "name": "stdout",
     "output_type": "stream",
     "text": [
      "          flDate  skedDep  actDep  flD  difference\n",
      "0     2019-11-01      480     474  LAX           6\n",
      "1     2019-11-01      750     741  LAX           9\n",
      "2     2019-11-01     1290    1309  LAX         -19\n",
      "3     2019-11-01      420     417  SFO           3\n",
      "4     2019-11-01      360     359  LAX           1\n",
      "...          ...      ...     ...  ...         ...\n",
      "9954  2019-11-30     1220    1243  CMH         -23\n",
      "9955  2019-11-30      895     889  CMH           6\n",
      "9956  2019-11-30      665     659  DCA           6\n",
      "9957  2019-11-30      749     739  BOS          10\n",
      "9958  2019-11-30      600     586  HNL          14\n",
      "\n",
      "[9959 rows x 5 columns]\n"
     ]
    },
    {
     "data": {
      "text/plain": [
       "<matplotlib.axes._subplots.AxesSubplot at 0x1e5da7d5488>"
      ]
     },
     "execution_count": 6,
     "metadata": {},
     "output_type": "execute_result"
    },
    {
     "data": {
      "image/png": "[encoded data removed]",
      "text/plain": [
       "<Figure size 432x288 with 1 Axes>"
      ]
     },
     "metadata": {
      "needs_background": "light"
     },
     "output_type": "display_data"
    }
   ],
   "source": [
    "df_time = pd.DataFrame(df['skedDep'] - df['actDep'])\n",
    "df_time.columns = ['difference']\n",
    "#print(df_time)\n",
    "#print(df_time.loc[df_time['difference'] > 0])\n",
    "#hist = df_time.loc[df_time['difference'] > 30].hist(bins=100)\n",
    "df['difference'] = df_time\n",
    "print(df)\n",
    "sns.stripplot(x='difference', y='flD', data=df.loc[df['difference']>30], jitter=False, size=5)"
   ]
  }
 ],
 "metadata": {
  "kernelspec": {
   "display_name": "Python 3",
   "language": "python",
   "name": "python3"
  },
  "language_info": {
   "codemirror_mode": {
    "name": "ipython",
    "version": 3
   },
   "file_extension": ".py",
   "mimetype": "text/x-python",
   "name": "python",
   "nbconvert_exporter": "python",
   "pygments_lexer": "ipython3",
   "version": "3.7.4"
  }
 },
 "nbformat": 4,
 "nbformat_minor": 2
}
