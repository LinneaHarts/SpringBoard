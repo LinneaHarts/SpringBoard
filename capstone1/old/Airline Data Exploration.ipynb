{
 "cells": [
  {
   "cell_type": "code",
   "execution_count": 1,
   "metadata": {},
   "outputs": [
    {
     "name": "stdout",
     "output_type": "stream",
     "text": [
      "Connected to MySQL Server version  5.7.19-log\n",
      "You're connected to database:  ('watt_db',)\n"
     ]
    }
   ],
   "source": [
    "import mysql.connector\n",
    "from mysql.connector import Error\n",
    "\n",
    "try:\n",
    "    connection = mysql.connector.connect(host='wattawsdb01.cztrsaytzops.us-east-1.rds.amazonaws.com',\n",
    "                                         database='watt_db',\n",
    "                                         user='linnea',\n",
    "                                         password='XandB00bs')\n",
    "    if connection.is_connected():\n",
    "        db_Info = connection.get_server_info()\n",
    "        print(\"Connected to MySQL Server version \", db_Info)\n",
    "        cursor = connection.cursor()\n",
    "        cursor.execute(\"select database();\")\n",
    "        record = cursor.fetchone()\n",
    "        print(\"You're connected to database: \", record)\n",
    "\n",
    "except Error as e:\n",
    "    print(\"Error while connecting to MySQL\", e)\n",
    "#finally:\n",
    "#    if (connection.is_connected()):\n",
    "#        cursor.close()\n",
    "#        connection.close()\n",
    "#        print(\"MySQL connection is closed\")"
   ]
  },
  {
   "cell_type": "code",
   "execution_count": 17,
   "metadata": {},
   "outputs": [
    {
     "name": "stdout",
     "output_type": "stream",
     "text": [
      "Total number of rows in airports is : 3607\n"
     ]
    }
   ],
   "source": [
    "sql_select_Query = \"select flDate, skedDep, actDep, flD from bts_data where flDate between '2019-11-20' and '2019-11-30' and flO='JFK'\"\n",
    "cursor = connection.cursor()\n",
    "cursor.execute(sql_select_Query)\n",
    "records = cursor.fetchall()\n",
    "print(\"Total number of rows in airports is :\", cursor.rowcount)\n",
    "#print(records)"
   ]
  },
  {
   "cell_type": "code",
   "execution_count": 18,
   "metadata": {},
   "outputs": [],
   "source": [
    "import pandas as pd\n",
    "import matplotlib.pyplot as plt\n",
    "import seaborn as sns\n",
    "df = pd.DataFrame(records)\n",
    "df.columns = ['flDate', 'skedDep', 'actDep', 'flD']\n",
    "#groupby_fld = df.groupby('flD')\n",
    "#for fld, value in groupby_fld['skedDep']:\n",
    "#   print(fld, value.count())\n",
    "#print(df[1:2].diff(axis=1))\n",
    "#plt.hist()"
   ]
  },
  {
   "cell_type": "code",
   "execution_count": 19,
   "metadata": {},
   "outputs": [
    {
     "name": "stdout",
     "output_type": "stream",
     "text": [
      "-433 1\n",
      "-255 1\n",
      "-254 1\n",
      "-241 2\n",
      "-234 1\n",
      "-207 1\n",
      "-194 1\n",
      "-192 1\n",
      "-181 1\n",
      "-180 1\n",
      "-169 2\n",
      "-168 1\n",
      "-165 1\n",
      "-164 1\n",
      "-158 2\n",
      "-157 1\n",
      "-152 2\n",
      "-151 1\n",
      "-150 1\n",
      "-144 2\n",
      "-140 2\n",
      "-138 1\n",
      "-135 1\n",
      "-124 1\n",
      "-119 1\n",
      "-117 1\n",
      "-116 1\n",
      "-115 2\n",
      "-114 3\n",
      "-111 1\n",
      "-110 1\n",
      "-109 1\n",
      "-106 1\n",
      "-105 3\n",
      "-104 1\n",
      "-101 2\n",
      "-98 1\n",
      "-96 2\n",
      "-95 2\n",
      "-94 3\n",
      "-89 3\n",
      "-88 2\n",
      "-87 2\n",
      "-86 1\n",
      "-85 2\n",
      "-81 1\n",
      "-80 2\n",
      "-79 3\n",
      "-78 2\n",
      "-77 2\n",
      "-76 1\n",
      "-75 4\n",
      "-74 5\n",
      "-73 1\n",
      "-72 1\n",
      "-71 1\n",
      "-70 1\n",
      "-68 2\n",
      "-67 2\n",
      "-66 1\n",
      "-65 3\n",
      "-64 2\n",
      "-63 3\n",
      "-60 2\n",
      "-59 4\n",
      "-58 2\n",
      "-57 2\n",
      "-56 3\n",
      "-55 1\n",
      "-54 5\n",
      "-53 1\n",
      "-52 2\n",
      "-51 3\n",
      "-50 4\n",
      "-48 1\n",
      "-47 3\n",
      "-46 4\n",
      "-45 2\n",
      "-44 4\n",
      "-43 4\n",
      "-42 3\n",
      "-41 3\n",
      "-40 2\n",
      "-39 1\n",
      "-38 8\n",
      "-37 5\n",
      "-36 4\n",
      "-35 5\n",
      "-34 3\n",
      "-33 6\n",
      "-32 3\n",
      "-31 8\n",
      "-30 9\n",
      "-29 8\n",
      "-28 4\n",
      "-27 3\n",
      "-26 11\n",
      "-25 5\n",
      "-24 7\n",
      "-23 5\n",
      "-22 10\n",
      "-21 9\n",
      "-20 10\n",
      "-19 9\n",
      "-18 13\n",
      "-17 15\n",
      "-16 12\n",
      "-15 14\n",
      "-14 12\n",
      "-13 16\n",
      "-12 14\n",
      "-11 10\n",
      "-10 26\n",
      "-9 23\n",
      "-8 21\n",
      "-7 24\n",
      "-6 25\n",
      "-5 20\n",
      "-4 44\n",
      "-3 33\n",
      "-2 43\n",
      "-1 54\n",
      "0 173\n",
      "1 199\n",
      "2 229\n",
      "3 276\n",
      "4 337\n",
      "5 386\n",
      "6 289\n",
      "7 319\n",
      "8 212\n",
      "9 188\n",
      "10 133\n",
      "11 71\n",
      "12 33\n",
      "13 22\n",
      "14 7\n",
      "15 5\n",
      "16 4\n",
      "17 1\n",
      "18 2\n",
      "1193 1\n",
      "1251 1\n",
      "1273 1\n",
      "1283 1\n",
      "1307 1\n",
      "1309 1\n",
      "1354 1\n",
      "1376 1\n",
      "1385 1\n",
      "1416 1\n",
      "1438 1\n"
     ]
    },
    {
     "data": {
      "text/plain": [
       "<matplotlib.axes._subplots.AxesSubplot at 0x1a241dbf088>"
      ]
     },
     "execution_count": 19,
     "metadata": {},
     "output_type": "execute_result"
    },
    {
     "data": {
      "image/png": "[encoded data removed]",
      "text/plain": [
       "<Figure size 432x288 with 1 Axes>"
      ]
     },
     "metadata": {
      "needs_background": "light"
     },
     "output_type": "display_data"
    }
   ],
   "source": [
    "df_time = pd.DataFrame(df['skedDep'] - df['actDep'])\n",
    "df_time.columns = ['difference']\n",
    "#print(df_time)\n",
    "#print(df_time.loc[df_time['difference'] > 0])\n",
    "#hist = df_time.loc[df_time['difference'] > 30].hist(bins=100)\n",
    "df['difference'] = df_time\n",
    "#print(df)\n",
    "groupby_diff = df.groupby('difference')\n",
    "for diff, value in groupby_diff['difference']:\n",
    "    print(diff, value.count())\n",
    "sns.stripplot(x='difference', y='flD', data=df.loc[df['difference']>30], jitter=False, size=5)"
   ]
  }
 ],
 "metadata": {
  "kernelspec": {
   "display_name": "Python 3",
   "language": "python",
   "name": "python3"
  },
  "language_info": {
   "codemirror_mode": {
    "name": "ipython",
    "version": 3
   },
   "file_extension": ".py",
   "mimetype": "text/x-python",
   "name": "python",
   "nbconvert_exporter": "python",
   "pygments_lexer": "ipython3",
   "version": "3.7.4"
  }
 },
 "nbformat": 4,
 "nbformat_minor": 2
}
