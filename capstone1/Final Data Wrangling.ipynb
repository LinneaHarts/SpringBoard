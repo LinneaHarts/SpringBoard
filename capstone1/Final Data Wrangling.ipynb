{
 "cells": [
  {
   "cell_type": "code",
   "execution_count": 62,
   "metadata": {},
   "outputs": [],
   "source": [
    "import pandas as pd\n",
    "import geopandas as gpd\n",
    "import numpy as np\n",
    "import shapely.wkt as wkt\n",
    "import math\n",
    "from shapely.geometry import Point, LineString, Polygon\n",
    "from matplotlib import pyplot as plt"
   ]
  },
  {
   "cell_type": "code",
   "execution_count": 63,
   "metadata": {},
   "outputs": [],
   "source": [
    "# read in the cluster data\n",
    "rd_df = pd.read_csv('data/cleaned_data/agg_clusters.csv')"
   ]
  },
  {
   "cell_type": "markdown",
   "metadata": {},
   "source": [
    "Now rd_df has a lot of data in it that I don't need for analysis, but may need later for visualization. First I drop all the columns that aren't going to be used for analysis."
   ]
  },
  {
   "cell_type": "code",
   "execution_count": 64,
   "metadata": {
    "scrolled": true
   },
   "outputs": [
    {
     "name": "stdout",
     "output_type": "stream",
     "text": [
      "<class 'pandas.core.frame.DataFrame'>\n",
      "RangeIndex: 74122 entries, 0 to 74121\n",
      "Data columns (total 43 columns):\n",
      " #   Column          Non-Null Count  Dtype  \n",
      "---  ------          --------------  -----  \n",
      " 0   car_acc_score   74122 non-null  float64\n",
      " 1   bike_acc_score  74122 non-null  float64\n",
      " 2   Facility        65737 non-null  float64\n",
      " 3   F_Class         72378 non-null  float64\n",
      " 4   Urban_Area      72374 non-null  float64\n",
      " 5   Urban_Type      72374 non-null  float64\n",
      " 6   F_F_Class       72378 non-null  float64\n",
      " 7   Jurisdictn      71241 non-null  object \n",
      " 8   NHS             72303 non-null  float64\n",
      " 9   Control         72020 non-null  float64\n",
      " 10  Num_Lanes       72301 non-null  float64\n",
      " 11  Opp_Lanes       72301 non-null  float64\n",
      " 12  Surface_Tp      72071 non-null  float64\n",
      " 13  Surface_Wd      72071 non-null  float64\n",
      " 14  Shldr_Rt_W      72078 non-null  float64\n",
      " 15  Shldr_Rt_T      72078 non-null  float64\n",
      " 16  Shldr_Lt_W      72071 non-null  float64\n",
      " 17  Shldr_Lt_T      72071 non-null  float64\n",
      " 18  Shldr_UL_W      72070 non-null  float64\n",
      " 19  Shldr_UL_T      72070 non-null  float64\n",
      " 20  Med_Width       71964 non-null  float64\n",
      " 21  Med_Type        71616 non-null  float64\n",
      " 22  Curb            62025 non-null  float64\n",
      " 23  Lt_Sidewlk      72082 non-null  float64\n",
      " 24  Rt_Sidewlk      72082 non-null  float64\n",
      " 25  Operation       64565 non-null  float64\n",
      " 26  Speed_Lim       36385 non-null  float64\n",
      " 27  Op_Dir_SL       36069 non-null  float64\n",
      " 28  T_Exc_Type      71087 non-null  float64\n",
      " 29  T_Exc_Time      71087 non-null  float64\n",
      " 30  Truck_Rte       71087 non-null  float64\n",
      " 31  ROW_Width       61036 non-null  float64\n",
      " 32  Struct_Cnd      62239 non-null  float64\n",
      " 33  Terrain         72043 non-null  float64\n",
      " 34  City            73397 non-null  float64\n",
      " 35  Mun_Type        73292 non-null  float64\n",
      " 36  County          73397 non-null  float64\n",
      " 37  Hwy_Dist        73397 non-null  float64\n",
      " 38  MPO             74122 non-null  object \n",
      " 39  RPA             73299 non-null  object \n",
      " 40  RTA             73292 non-null  object \n",
      " 41  City_Maint      72114 non-null  float64\n",
      " 42  AADT            61950 non-null  float64\n",
      "dtypes: float64(39), object(4)\n",
      "memory usage: 24.3+ MB\n"
     ]
    }
   ],
   "source": [
    "model_df = rd_df.drop(columns=['Unnamed: 0.1.1', 'Unnamed: 0', 'Unnamed: 0.1',  'Unnamed: 0_2', 'Pd_Sf_Type', \n",
    "                               'Pd_Fc_Type', 'Cr_Slope', 'Truck', 'Trk_Netwrk', 'Trk_Netwrk', 'Path_Width', \n",
    "                               'Unnamed: 0_1', 'Statn_Num', 'StationID', 'shape', 'bike_acc_ids',\n",
    "                              'car_acc_ids', 'Route_ID', 'From_Measure', 'To_Measure', 'Route_System', 'Route_Number',\n",
    "                               'Route_Direction', 'Rd_Seg_ID', 'Route_Number', 'Mile_Count', 'Speed', 'Trk_Permit',\n",
    "                               'St_Name', 'Fm_St_Name', 'To_St_Name', 'Length', 'Shape_Length', 'road_shape', 'geometry',\n",
    "                               'road_line', 'Toll_Road', 'MHS', 'AADT_Year', 'AADT_Deriv', 'Fd_Aid_Rd'\n",
    "                              ])\n",
    "model_df.info(verbose=True, null_counts=True)"
   ]
  },
  {
   "cell_type": "code",
   "execution_count": 65,
   "metadata": {},
   "outputs": [],
   "source": [
    "# convert car and bike accident scores to integers\n",
    "model_df['car_acc_score'] = model_df['car_acc_score'].astype(int)\n",
    "model_df['bike_acc_score'] = model_df['bike_acc_score'].astype(int)"
   ]
  },
  {
   "cell_type": "code",
   "execution_count": 66,
   "metadata": {},
   "outputs": [],
   "source": [
    "# fill in null values in string codes with 'NA'\n",
    "\n",
    "list_to_convert = ['Jurisdictn', 'MPO', 'RPA', 'RTA']\n",
    "\n",
    "for col in list_to_convert:\n",
    "    model_df[col] = model_df[col].fillna(value='NA')"
   ]
  },
  {
   "cell_type": "code",
   "execution_count": 67,
   "metadata": {},
   "outputs": [],
   "source": [
    "# a large number of these columns are IDs that stand for qualitative values\n",
    "# this function fills null values with -1 and converts the column to integers\n",
    "\n",
    "# -1 also makes sense as a fill value for fields like number of lanes\n",
    "\n",
    "def fill_and_convert(data, column):\n",
    "    data[column] = data[column].fillna(value=-1)\n",
    "    data[column] = data[column].astype(int)\n",
    "    return True"
   ]
  },
  {
   "cell_type": "code",
   "execution_count": 68,
   "metadata": {},
   "outputs": [
    {
     "name": "stdout",
     "output_type": "stream",
     "text": [
      "<class 'pandas.core.frame.DataFrame'>\n",
      "RangeIndex: 74122 entries, 0 to 74121\n",
      "Data columns (total 43 columns):\n",
      " #   Column          Non-Null Count  Dtype  \n",
      "---  ------          --------------  -----  \n",
      " 0   car_acc_score   74122 non-null  int32  \n",
      " 1   bike_acc_score  74122 non-null  int32  \n",
      " 2   Facility        74122 non-null  int32  \n",
      " 3   F_Class         74122 non-null  int32  \n",
      " 4   Urban_Area      74122 non-null  int32  \n",
      " 5   Urban_Type      74122 non-null  int32  \n",
      " 6   F_F_Class       74122 non-null  int32  \n",
      " 7   Jurisdictn      74122 non-null  object \n",
      " 8   NHS             74122 non-null  int32  \n",
      " 9   Control         74122 non-null  int32  \n",
      " 10  Num_Lanes       74122 non-null  int32  \n",
      " 11  Opp_Lanes       74122 non-null  int32  \n",
      " 12  Surface_Tp      74122 non-null  int32  \n",
      " 13  Surface_Wd      74122 non-null  int32  \n",
      " 14  Shldr_Rt_W      74122 non-null  int32  \n",
      " 15  Shldr_Rt_T      74122 non-null  int32  \n",
      " 16  Shldr_Lt_W      74122 non-null  int32  \n",
      " 17  Shldr_Lt_T      74122 non-null  int32  \n",
      " 18  Shldr_UL_W      74122 non-null  int32  \n",
      " 19  Shldr_UL_T      74122 non-null  int32  \n",
      " 20  Med_Width       74122 non-null  int32  \n",
      " 21  Med_Type        74122 non-null  int32  \n",
      " 22  Curb            74122 non-null  int32  \n",
      " 23  Lt_Sidewlk      74122 non-null  int32  \n",
      " 24  Rt_Sidewlk      74122 non-null  int32  \n",
      " 25  Operation       74122 non-null  int32  \n",
      " 26  Speed_Lim       74122 non-null  int32  \n",
      " 27  Op_Dir_SL       74122 non-null  int32  \n",
      " 28  T_Exc_Type      74122 non-null  int32  \n",
      " 29  T_Exc_Time      74122 non-null  int32  \n",
      " 30  Truck_Rte       74122 non-null  int32  \n",
      " 31  ROW_Width       74122 non-null  int32  \n",
      " 32  Struct_Cnd      74122 non-null  int32  \n",
      " 33  Terrain         74122 non-null  int32  \n",
      " 34  City            74122 non-null  int32  \n",
      " 35  Mun_Type        74122 non-null  int32  \n",
      " 36  County          74122 non-null  int32  \n",
      " 37  Hwy_Dist        74122 non-null  int32  \n",
      " 38  MPO             74122 non-null  object \n",
      " 39  RPA             74122 non-null  object \n",
      " 40  RTA             74122 non-null  object \n",
      " 41  City_Maint      74122 non-null  int32  \n",
      " 42  AADT            61950 non-null  float64\n",
      "dtypes: float64(1), int32(38), object(4)\n",
      "memory usage: 13.6+ MB\n"
     ]
    }
   ],
   "source": [
    "list_to_convert = ['Facility', 'F_Class', 'Urban_Area', 'Urban_Type', 'F_F_Class', 'NHS', 'Control', 'Num_Lanes',\n",
    "                  'Opp_Lanes', 'Surface_Tp', 'Surface_Wd', 'Shldr_Rt_W', 'Shldr_Rt_T', 'Shldr_Lt_W', 'Shldr_Lt_T',\n",
    "                   'Shldr_UL_W', 'Shldr_UL_T', 'Med_Width', 'Med_Type', 'Curb', 'Lt_Sidewlk', 'Rt_Sidewlk', \n",
    "                   'Operation', 'Speed_Lim', 'Op_Dir_SL', 'T_Exc_Type', 'T_Exc_Time', 'Truck_Rte',  'ROW_Width',\n",
    "                   'Struct_Cnd', 'Terrain', 'City', 'Mun_Type', 'County', 'Hwy_Dist', 'City_Maint']\n",
    "\n",
    "for col in list_to_convert:\n",
    "    fill_and_convert(model_df, col)\n",
    "\n",
    "model_df.info(verbose=True, null_counts=True)"
   ]
  },
  {
   "cell_type": "code",
   "execution_count": 69,
   "metadata": {},
   "outputs": [
    {
     "data": {
      "text/plain": [
       "count     61950.000000\n",
       "mean      13968.546893\n",
       "std       26294.292929\n",
       "min          10.000000\n",
       "25%        1154.000000\n",
       "50%        3720.000000\n",
       "75%       15131.000000\n",
       "max      224649.000000\n",
       "Name: AADT, dtype: float64"
      ]
     },
     "execution_count": 69,
     "metadata": {},
     "output_type": "execute_result"
    }
   ],
   "source": [
    "model_df['AADT'].describe()\n",
    "\n",
    "# AADT is a traffic volume, therefore we don't want to just add negative numbers\n",
    "# Maybe later I'll come up with a fancy way to add missing values, but for now, I'll create a separate data set\n",
    "# only containing rows without a null AADT\n"
   ]
  },
  {
   "cell_type": "code",
   "execution_count": 70,
   "metadata": {},
   "outputs": [],
   "source": [
    "# Drop traffic column and output data with no null values\n",
    "\n",
    "road_qualities = model_df.drop(columns=['AADT'])\n",
    "road_qualities.to_csv(r'data/cleaned_data/road_qualities.csv')"
   ]
  },
  {
   "cell_type": "code",
   "execution_count": 75,
   "metadata": {},
   "outputs": [
    {
     "data": {
      "text/plain": [
       "61950"
      ]
     },
     "execution_count": 75,
     "metadata": {},
     "output_type": "execute_result"
    }
   ],
   "source": [
    "# Create a dataframe with only traffic, drop rows with nulls and export\n",
    "\n",
    "traffic = model_df[['car_acc_score', 'bike_acc_score', 'AADT']].dropna()\n",
    "len(traffic)"
   ]
  },
  {
   "cell_type": "code",
   "execution_count": 78,
   "metadata": {},
   "outputs": [],
   "source": [
    "traffic.to_csv(r'data/cleaned_data/traffic.csv')"
   ]
  }
 ],
 "metadata": {
  "kernelspec": {
   "display_name": "Python 3",
   "language": "python",
   "name": "python3"
  },
  "language_info": {
   "codemirror_mode": {
    "name": "ipython",
    "version": 3
   },
   "file_extension": ".py",
   "mimetype": "text/x-python",
   "name": "python",
   "nbconvert_exporter": "python",
   "pygments_lexer": "ipython3",
   "version": "3.7.6"
  }
 },
 "nbformat": 4,
 "nbformat_minor": 4
}
