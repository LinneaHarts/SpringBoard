{
 "cells": [
  {
   "cell_type": "markdown",
   "metadata": {},
   "source": [
    "# Bike and Car Accident Project Data Dictionary #"
   ]
  },
  {
   "cell_type": "code",
   "execution_count": 1,
   "metadata": {},
   "outputs": [],
   "source": [
    "import pandas as pd\n",
    "import geopandas as gpd\n",
    "import numpy as np\n",
    "import shapely.wkt as wkt\n",
    "import math\n",
    "from shapely.geometry import Point, LineString, Polygon\n",
    "from matplotlib import pyplot as plt"
   ]
  },
  {
   "cell_type": "markdown",
   "metadata": {},
   "source": [
    "| **No**  | **Column Name**  | **Type**  | **Description**  |   |\n",
    "|---|---|---|---|---|\n",
    "|    |   |   |   |   |\n",
    "|    | acc_cntrl  | str  | A description of the level of access control to the road  |   |\n",
    "|    |   |   |   |   |\n",
    "|   | bike_acc_ids   | list  | A list of bike accident ids associated with an area  |   |   |\n",
    "|    | bike_acc_score  | float  | The number of bike accidents that happened in the area  |   |\n",
    "|   | car_acc_ids   | list  | A list of bike accident ids associated with an area  |   |   |\n",
    "|    | car_acc_score  | float  | The number of car accidents that happened in the area  |   |\n",
    "|    |   |   |   |   |\n",
    "|    | f_class  | float  | An ID that may code for func_class, but doesn't entirely match up  |   |\n",
    "|    | f_f_class  | float  | An ID that may code for fed_func_class, but doesn't entirely match up  |   |\n",
    "|    | fac_type  | str  | A description of what type of road  |   |\n",
    "|    | fd_aid_rd  | str  | A description of whether and what kind of federal aid a road is eligible for  |   |\n",
    "|    | fd_aid_rd_id  | float  | A code for federal aid that does not entirely match up with fd_aid_rd  |   |\n",
    "|    | fed_func_class  | str  | A description of the road's relationship to the federal government  |   |\n",
    "|    | func_class  | str  | A description of road type  |   |\n",
    "|    |   |   |   |   |\n",
    "|    | jursdiction_2017  | str  | A description of what type of organization controls the road  |   |\n",
    "|    | jursdiction_2018  | str  | A code for what type of organization controls the road, which does not entirely agree with jurisdiction_2017, so for now I'm keeping both columns  |   |\n",
    "|    |   |   |   |   |\n",
    "|    | objectid  | int64  | An identifier for the road section from the original road database, no longer unique because some road sections have been subdivided in joining with accident clusters  |   |\n",
    "|    |   |   |   |   |\n",
    "|    | nhs  | string  | Description of whether the road is part of the National Highway System  |   |\n",
    "|    | num_lns  | float  | Possibly also the number of travel lanes, but makes less sense than num_trvl_lns  |   |\n",
    "|    |   |   |   |   |\n",
    "|    | num_opp_trvl_lns  | float  | The number of travel lanes going in the opposite direction  |   |\n",
    "|    | num_opp_lns  | float  | Possibly also the number of travel lanes in the opposite direction, but makes less sense than num_opp_trvl_lns  |   |\n",
    "|    | num_trvl_lns  | float  | The number of travel lanes the road has  |   |\n",
    "|    |   |   |   |   |\n",
    "|    |   |   |   |   |\n",
    "|    |   |   |   |   |\n",
    "|    |   |   |   |   |\n",
    "|   | shape  | geometry  | A point or multiline string representing a group of accidents  |   |   |\n",
    "|   |   |   |   |   |\n",
    "|   | urb_area  | str  | Whether the road is rural or in the Boston urban area  |   |\n",
    "|   | urb_type  | str  | Whether the road is rural or urban  |   |\n",
    "|   |   |   |   |   |"
   ]
  },
  {
   "cell_type": "code",
   "execution_count": null,
   "metadata": {},
   "outputs": [],
   "source": []
  },
  {
   "cell_type": "code",
   "execution_count": null,
   "metadata": {},
   "outputs": [],
   "source": []
  },
  {
   "cell_type": "code",
   "execution_count": null,
   "metadata": {},
   "outputs": [],
   "source": []
  },
  {
   "cell_type": "code",
   "execution_count": null,
   "metadata": {},
   "outputs": [],
   "source": []
  },
  {
   "cell_type": "code",
   "execution_count": null,
   "metadata": {},
   "outputs": [],
   "source": []
  },
  {
   "cell_type": "code",
   "execution_count": null,
   "metadata": {},
   "outputs": [],
   "source": []
  },
  {
   "cell_type": "code",
   "execution_count": null,
   "metadata": {},
   "outputs": [],
   "source": []
  }
 ],
 "metadata": {
  "kernelspec": {
   "display_name": "Python 3",
   "language": "python",
   "name": "python3"
  },
  "language_info": {
   "codemirror_mode": {
    "name": "ipython",
    "version": 3
   },
   "file_extension": ".py",
   "mimetype": "text/x-python",
   "name": "python",
   "nbconvert_exporter": "python",
   "pygments_lexer": "ipython3",
   "version": "3.7.6"
  }
 },
 "nbformat": 4,
 "nbformat_minor": 4
}
