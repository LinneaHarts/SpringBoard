{
 "cells": [
  {
   "cell_type": "markdown",
   "metadata": {},
   "source": [
    "# Bike and Car Accident Statistical Analysis #\n",
    "\n",
    "In this notebook, I will look at my database of car and bike accidents and see if I can see a statistically significant difference between density of accidents in areas with:\n",
    "\n",
    "1. Different speed limits\n",
    "2. Different facility designations\n",
    "3. Different numbers of lanes--I'll see if I can control for speed limit here, since they are linked\n",
    "4. Truck exclusion type\n",
    "5. Surface Types\n",
    "\n",
    "## Speed Limits ##"
   ]
  },
  {
   "cell_type": "code",
   "execution_count": 18,
   "metadata": {},
   "outputs": [],
   "source": [
    "import pandas as pd\n",
    "import numpy as np\n",
    "import math\n",
    "import scipy.stats\n",
    "from matplotlib import pyplot as plt\n",
    "import seaborn as sns\n",
    "from scipy.stats import norm\n",
    "from scipy.stats import t"
   ]
  },
  {
   "cell_type": "code",
   "execution_count": 3,
   "metadata": {},
   "outputs": [],
   "source": [
    "# read in road database since that's where speed limit is\n",
    "rd = pd.read_csv('data/cleaned_data/road_qualities.csv').drop(columns=['Unnamed: 0'])"
   ]
  },
  {
   "cell_type": "code",
   "execution_count": 4,
   "metadata": {},
   "outputs": [
    {
     "data": {
      "text/plain": [
       "count    23458.000000\n",
       "mean        30.981541\n",
       "std          6.822917\n",
       "min         10.000000\n",
       "25%         30.000000\n",
       "50%         30.000000\n",
       "75%         30.000000\n",
       "max         55.000000\n",
       "Name: Speed_Lim, dtype: float64"
      ]
     },
     "execution_count": 4,
     "metadata": {},
     "output_type": "execute_result"
    }
   ],
   "source": [
    "# limit data to rows with a rational speed limit listed\n",
    "sl_rd = rd.query('Speed_Lim > 0 and Speed_Lim < 99')\n",
    "sl_rd.Speed_Lim.describe()"
   ]
  },
  {
   "cell_type": "code",
   "execution_count": 15,
   "metadata": {},
   "outputs": [
    {
     "data": {
      "text/plain": [
       "Text(0, 0.5, 'Bike Accident Density')"
      ]
     },
     "execution_count": 15,
     "metadata": {},
     "output_type": "execute_result"
    },
    {
     "data": {
      "image/png": "[encoded data removed]",
      "text/plain": [
       "<Figure size 936x360 with 2 Axes>"
      ]
     },
     "metadata": {
      "needs_background": "light"
     },
     "output_type": "display_data"
    }
   ],
   "source": [
    "fig, (ax0, ax1) = plt.subplots(nrows=1, ncols=2, figsize=(13.0, 5.0))\n",
    "ax0.plot(sl_rd.Speed_Lim, sl_rd.car_dens_score, alpha=0.5, linestyle='none', marker='.')\n",
    "ax0.set_xlabel('Speed Limit')\n",
    "ax0.set_ylabel('Car Accident Density')\n",
    "ax1.plot(sl_rd.Speed_Lim, sl_rd.bike_dens_score, alpha=0.5, linestyle='none', marker='.')\n",
    "ax1.set_xlabel('Speed Limit')\n",
    "ax1.set_ylabel('Bike Accident Density')"
   ]
  },
  {
   "cell_type": "markdown",
   "metadata": {},
   "source": [
    "**Hypothesis:** the mean car accident density increases from 10 mph to 30 mph, as does mean bike accident density\n",
    "\n",
    "I have to break this into several steps to analyze it. First lets count number of accidents at different speed limits. I suspect there aren't enough data points at 10 mph to be worth examining.\n",
    "\n",
    "Then I need to compare 15 to 20, 20 to 25, 25 to 30. \n",
    "\n",
    "The null hypotheses will be that there is no difference."
   ]
  },
  {
   "cell_type": "code",
   "execution_count": 17,
   "metadata": {},
   "outputs": [
    {
     "data": {
      "text/html": [
       "<div>\n",
       "<style scoped>\n",
       "    .dataframe tbody tr th:only-of-type {\n",
       "        vertical-align: middle;\n",
       "    }\n",
       "\n",
       "    .dataframe tbody tr th {\n",
       "        vertical-align: top;\n",
       "    }\n",
       "\n",
       "    .dataframe thead th {\n",
       "        text-align: right;\n",
       "    }\n",
       "</style>\n",
       "<table border=\"1\" class=\"dataframe\">\n",
       "  <thead>\n",
       "    <tr style=\"text-align: right;\">\n",
       "      <th></th>\n",
       "      <th>car_dens_score</th>\n",
       "      <th>bike_dens_score</th>\n",
       "    </tr>\n",
       "    <tr>\n",
       "      <th>Speed_Lim</th>\n",
       "      <th></th>\n",
       "      <th></th>\n",
       "    </tr>\n",
       "  </thead>\n",
       "  <tbody>\n",
       "    <tr>\n",
       "      <th>10</th>\n",
       "      <td>15</td>\n",
       "      <td>15</td>\n",
       "    </tr>\n",
       "    <tr>\n",
       "      <th>15</th>\n",
       "      <td>93</td>\n",
       "      <td>93</td>\n",
       "    </tr>\n",
       "    <tr>\n",
       "      <th>20</th>\n",
       "      <td>1253</td>\n",
       "      <td>1253</td>\n",
       "    </tr>\n",
       "    <tr>\n",
       "      <th>25</th>\n",
       "      <td>3698</td>\n",
       "      <td>3698</td>\n",
       "    </tr>\n",
       "    <tr>\n",
       "      <th>30</th>\n",
       "      <td>13445</td>\n",
       "      <td>13445</td>\n",
       "    </tr>\n",
       "    <tr>\n",
       "      <th>35</th>\n",
       "      <td>2189</td>\n",
       "      <td>2189</td>\n",
       "    </tr>\n",
       "    <tr>\n",
       "      <th>40</th>\n",
       "      <td>828</td>\n",
       "      <td>828</td>\n",
       "    </tr>\n",
       "    <tr>\n",
       "      <th>45</th>\n",
       "      <td>1154</td>\n",
       "      <td>1154</td>\n",
       "    </tr>\n",
       "    <tr>\n",
       "      <th>50</th>\n",
       "      <td>74</td>\n",
       "      <td>74</td>\n",
       "    </tr>\n",
       "    <tr>\n",
       "      <th>55</th>\n",
       "      <td>709</td>\n",
       "      <td>709</td>\n",
       "    </tr>\n",
       "  </tbody>\n",
       "</table>\n",
       "</div>"
      ],
      "text/plain": [
       "           car_dens_score  bike_dens_score\n",
       "Speed_Lim                                 \n",
       "10                     15               15\n",
       "15                     93               93\n",
       "20                   1253             1253\n",
       "25                   3698             3698\n",
       "30                  13445            13445\n",
       "35                   2189             2189\n",
       "40                    828              828\n",
       "45                   1154             1154\n",
       "50                     74               74\n",
       "55                    709              709"
      ]
     },
     "execution_count": 17,
     "metadata": {},
     "output_type": "execute_result"
    }
   ],
   "source": [
    "sl_rd.groupby('Speed_Lim').count()[['car_dens_score', 'bike_dens_score']]"
   ]
  },
  {
   "cell_type": "markdown",
   "metadata": {},
   "source": [
    "Yep, not very many at 10 or 15. So I'll concentrate on 20, 25, and 30."
   ]
  },
  {
   "cell_type": "code",
   "execution_count": 22,
   "metadata": {},
   "outputs": [
    {
     "name": "stdout",
     "output_type": "stream",
     "text": [
      "The p-value for rejecting the null hypothesis that there is no difference between car accidents in 20 mph zones and 25 mph zones is 0.6194128637093077\n",
      "The p-value for rejecting the null hypothesis that there is no difference between car accidents in 25 mph zones and 30 mph zones is 0.30865801123196035\n",
      "The p-value for rejecting the null hypothesis that there is no difference between car accidents in 20 mph zones and 30 mph zones is 0.17800797560867979\n"
     ]
    }
   ],
   "source": [
    "comp_sl = [(20, 25), (25, 30), (20, 30)]\n",
    "for i in range(len(comp_sl)):\n",
    "    t_res = scipy.stats.ttest_ind(sl_rd[sl_rd.Speed_Lim == comp_sl[i][0]].car_dens_score, \n",
    "                                       sl_rd[sl_rd.Speed_Lim == comp_sl[i][1]].car_dens_score, \n",
    "                                      equal_var=False)\n",
    "    print('The p-value for rejecting the null hypothesis that there is no difference between car accidents in ' \n",
    "          + str(comp_sl[i][0]) + ' mph zones and ' + str(comp_sl[i][1]) + ' mph zones is ' + str(t_res.pvalue))"
   ]
  },
  {
   "cell_type": "code",
   "execution_count": 23,
   "metadata": {},
   "outputs": [
    {
     "name": "stdout",
     "output_type": "stream",
     "text": [
      "The p-value for rejecting the null hypothesis that there is no difference between bike accidents in 20 mph zones and 25 mph zones is 0.0009764585459075452\n",
      "The p-value for rejecting the null hypothesis that there is no difference between bike accidents in 25 mph zones and 30 mph zones is 0.0006733426655266123\n",
      "The p-value for rejecting the null hypothesis that there is no difference between bike accidents in 20 mph zones and 30 mph zones is 9.245160606207875e-11\n"
     ]
    }
   ],
   "source": [
    "comp_sl = [(20, 25), (25, 30), (20, 30)]\n",
    "for i in range(len(comp_sl)):\n",
    "    t_res = scipy.stats.ttest_ind(sl_rd[sl_rd.Speed_Lim == comp_sl[i][0]].bike_dens_score, \n",
    "                                       sl_rd[sl_rd.Speed_Lim == comp_sl[i][1]].bike_dens_score, \n",
    "                                      equal_var=False)\n",
    "    print('The p-value for rejecting the null hypothesis that there is no difference between bike accidents in ' \n",
    "          + str(comp_sl[i][0]) + ' mph zones and ' + str(comp_sl[i][1]) + ' mph zones is ' + str(t_res.pvalue))"
   ]
  },
  {
   "cell_type": "markdown",
   "metadata": {},
   "source": [
    "The statistical evidence for higher speed limits between 20 and 30 making a difference in accident density is much stronger for bikes than for cars.\n",
    "\n",
    "## Facility Designations ##\n",
    "\n",
    "There are several qualitative designations that have to do with the road type and usage, including Facility, F_Class, F_F_Class, NHS, Control\n",
    "\n",
    "We see larger numbers of car accidents for Facility Types: 3 = Tunnel 7 = Simple ramp 11 = Simple ramp - tunnel\n",
    "\n",
    "We see larger numbers of bike accidents for the above types and:\n",
    "\n",
    "4 = Doubledeck 5 = Rotary 10 = Collector - Distributor 12 = Bicycle\n",
    "\n",
    "In this case, it might be interesting to compare the mean for the various facility types to the mean of the whole data set. I assigned -1 to places where the facility type isn't designated.\n",
    "\n",
    "For this I will want to use a one-sided t-test since I'm only interested in whe\"ther the facility has larger scores."
   ]
  },
  {
   "cell_type": "code",
   "execution_count": 24,
   "metadata": {},
   "outputs": [
    {
     "data": {
      "text/plain": [
       "Facility\n",
       "-1      8385\n",
       " 1     60384\n",
       " 3       601\n",
       " 4       133\n",
       " 5       316\n",
       " 7      2810\n",
       " 10       34\n",
       " 11      463\n",
       " 12      996\n",
       "Name: car_acc_score, dtype: int64"
      ]
     },
     "execution_count": 24,
     "metadata": {},
     "output_type": "execute_result"
    }
   ],
   "source": [
    "rd.groupby('Facility').car_acc_score.count()"
   ]
  },
  {
   "cell_type": "code",
   "execution_count": 33,
   "metadata": {},
   "outputs": [
    {
     "data": {
      "text/plain": [
       "array([ 1,  3,  4,  5,  7, 10, 11, 12], dtype=int64)"
      ]
     },
     "execution_count": 33,
     "metadata": {},
     "output_type": "execute_result"
    }
   ],
   "source": [
    "fac_types = np.array(rd.groupby('Facility').car_acc_score.count().index)[1:]\n"
   ]
  },
  {
   "cell_type": "code",
   "execution_count": 44,
   "metadata": {},
   "outputs": [
    {
     "name": "stdout",
     "output_type": "stream",
     "text": [
      "The p-value for rejecting the null hypothesis that there are the same density of car accidents in Facility Type 3 is 3.674102614864587e-23\n",
      "The p-value for rejecting the null hypothesis that there are the same density of car accidents in Facility Type 4 is 8.278047634857927e-06\n",
      "The p-value for rejecting the null hypothesis that there are the same density of car accidents in Facility Type 5 is 0.01152538958510564\n",
      "The p-value for rejecting the null hypothesis that there are the same density of car accidents in Facility Type 7 is 4.264566336077216e-58\n",
      "The p-value for rejecting the null hypothesis that there are the same density of car accidents in Facility Type 10 is 0.00043851735986237897\n",
      "The p-value for rejecting the null hypothesis that there are the same density of car accidents in Facility Type 11 is 7.456235993547622e-25\n",
      "The p-value for rejecting the null hypothesis that there are the same density of car accidents in Facility Type 12 is 9.19525379130795e-08\n"
     ]
    }
   ],
   "source": [
    "for i in range(len(fac_types)):\n",
    "    if (rd[rd.Facility > 0].car_dens_score.mean() < rd[rd.Facility == fac_types[i]].car_dens_score.mean()):\n",
    "        t_res = scipy.stats.ttest_ind(rd[rd.Facility == fac_types[i]].car_dens_score, \n",
    "                                      rd[rd.Facility > 0].car_dens_score,\n",
    "                                          equal_var=False)\n",
    "        print('The p-value for rejecting the null hypothesis that there are the same density of car accidents in Facility Type '\n",
    "              + str(fac_types[i]) + ' is ' + str(t_res.pvalue))"
   ]
  },
  {
   "cell_type": "markdown",
   "metadata": {},
   "source": [
    "This shows me that the Facility type has a strong influence on the number of accidents. "
   ]
  },
  {
   "cell_type": "code",
   "execution_count": 46,
   "metadata": {},
   "outputs": [
    {
     "name": "stdout",
     "output_type": "stream",
     "text": [
      "The p-value for rejecting the null hypothesis that there are the same density of bike accidents in Facility Type 3 is 0.002207886923264796\n",
      "The p-value for rejecting the null hypothesis that there are the same density of bike accidents in Facility Type 4 is 0.5434977046476208\n",
      "The p-value for rejecting the null hypothesis that there are the same density of bike accidents in Facility Type 7 is 0.16771025769564266\n",
      "The p-value for rejecting the null hypothesis that there are the same density of bike accidents in Facility Type 11 is 0.0012278440790682908\n",
      "The p-value for rejecting the null hypothesis that there are the same density of bike accidents in Facility Type 12 is 3.195058434203808e-05\n"
     ]
    }
   ],
   "source": [
    "for i in range(len(fac_types)):\n",
    "    if (rd[rd.Facility > 0].bike_dens_score.mean() < rd[rd.Facility == fac_types[i]].bike_dens_score.mean()):\n",
    "        t_res = scipy.stats.ttest_ind(rd[rd.Facility == fac_types[i]].bike_dens_score, \n",
    "                                      rd[rd.Facility > 0].bike_dens_score,\n",
    "                                          equal_var=False)\n",
    "        print('The p-value for rejecting the null hypothesis that there are the same density of bike accidents in Facility Type '\n",
    "              + str(fac_types[i]) + ' is ' + str(t_res.pvalue))"
   ]
  },
  {
   "cell_type": "markdown",
   "metadata": {},
   "source": [
    "We get strong support for the idea that Facility Type affects the density of both car and bike accidents.\n",
    "\n",
    "## Number of Lanes ##\n",
    "\n",
    "Number of lanes and speed limit are not independent from one another. So it might be instructive to pick only areas with 30 mph speed limit and see if the number of lanes has an effect."
   ]
  },
  {
   "cell_type": "code",
   "execution_count": 48,
   "metadata": {},
   "outputs": [
    {
     "data": {
      "text/plain": [
       "Num_Lanes\n",
       "0        7\n",
       "1      679\n",
       "2    10052\n",
       "3     1326\n",
       "4     1367\n",
       "5       14\n",
       "Name: car_dens_score, dtype: int64"
      ]
     },
     "execution_count": 48,
     "metadata": {},
     "output_type": "execute_result"
    }
   ],
   "source": [
    "sl_rd_30 = sl_rd.query('Speed_Lim == 30')\n",
    "sl_rd_30.groupby('Num_Lanes').count().car_dens_score"
   ]
  },
  {
   "cell_type": "code",
   "execution_count": 51,
   "metadata": {},
   "outputs": [
    {
     "name": "stdout",
     "output_type": "stream",
     "text": [
      "The p-value for rejecting the null hypothesis that there are the same density of car accidents on roads with 1 lanes is 0.0869741824891845\n",
      "The p-value for rejecting the null hypothesis that there are the same density of car accidents on roads with 3 lanes is 2.3574813067808978e-05\n",
      "The p-value for rejecting the null hypothesis that there are the same density of car accidents on roads with 4 lanes is 0.24898312431260922\n"
     ]
    }
   ],
   "source": [
    "for i in range(1, 5):\n",
    "    if (sl_rd_30.car_dens_score.mean() < sl_rd_30[sl_rd_30.Num_Lanes == i].car_dens_score.mean()):\n",
    "        t_res = scipy.stats.ttest_ind(sl_rd_30.car_dens_score, \n",
    "                                      sl_rd_30[sl_rd_30.Num_Lanes == i].car_dens_score,\n",
    "                                          equal_var=False)\n",
    "        print('The p-value for rejecting the null hypothesis that there are the same density of car accidents on roads with '\n",
    "              + str(i) + ' lanes is ' + str(t_res.pvalue))"
   ]
  },
  {
   "cell_type": "code",
   "execution_count": 52,
   "metadata": {},
   "outputs": [
    {
     "name": "stdout",
     "output_type": "stream",
     "text": [
      "The p-value for rejecting the null hypothesis that there are the same density of bike accidents on roads with 1 lanes is 0.11205769939638383\n",
      "The p-value for rejecting the null hypothesis that there are the same density of bike accidents on roads with 3 lanes is 0.1875886974313577\n",
      "The p-value for rejecting the null hypothesis that there are the same density of bike accidents on roads with 4 lanes is 0.008982259678217568\n"
     ]
    }
   ],
   "source": [
    "for i in range(1, 5):\n",
    "    if (sl_rd_30.bike_dens_score.mean() < sl_rd_30[sl_rd_30.Num_Lanes == i].bike_dens_score.mean()):\n",
    "        t_res = scipy.stats.ttest_ind(sl_rd_30.bike_dens_score, \n",
    "                                      sl_rd_30[sl_rd_30.Num_Lanes == i].bike_dens_score,\n",
    "                                          equal_var=False)\n",
    "        print('The p-value for rejecting the null hypothesis that there are the same density of bike accidents on roads with '\n",
    "              + str(i) + ' lanes is ' + str(t_res.pvalue))"
   ]
  },
  {
   "cell_type": "markdown",
   "metadata": {},
   "source": [
    "This seems to indicate that 1 and 3 lane roads are more dangerous for cars, and 4 lane roads are more dangerous for bikes, at least when the speed limit is 30 mph.\n",
    "\n",
    "## Truck Exclusion ##\n",
    "\n",
    "Tbe vast majority of roads have no truck exclusions, but we have around 5000 with some kind of exclusion. For this analysis, I will compare having no exclusion to having any kind of exclusion."
   ]
  },
  {
   "cell_type": "code",
   "execution_count": 53,
   "metadata": {},
   "outputs": [
    {
     "data": {
      "text/plain": [
       "T_Exc_Type\n",
       "-1      3035\n",
       " 1     66485\n",
       " 2      2273\n",
       " 10       20\n",
       " 12     1122\n",
       " 13     1187\n",
       "Name: car_acc_score, dtype: int64"
      ]
     },
     "execution_count": 53,
     "metadata": {},
     "output_type": "execute_result"
    }
   ],
   "source": [
    "rd.groupby('T_Exc_Type').car_acc_score.count()"
   ]
  },
  {
   "cell_type": "code",
   "execution_count": 61,
   "metadata": {},
   "outputs": [
    {
     "data": {
      "text/plain": [
       "T_Exc_Type\n",
       "-1     0.000268\n",
       " 1     0.000143\n",
       " 2     0.000083\n",
       " 10    0.000093\n",
       " 12    0.000303\n",
       " 13    0.000046\n",
       "Name: car_dens_score, dtype: float64"
      ]
     },
     "execution_count": 61,
     "metadata": {},
     "output_type": "execute_result"
    }
   ],
   "source": [
    "rd.groupby('T_Exc_Type').car_dens_score.mean()"
   ]
  },
  {
   "cell_type": "code",
   "execution_count": 60,
   "metadata": {},
   "outputs": [
    {
     "name": "stdout",
     "output_type": "stream",
     "text": [
      "The p-value for rejecting the null hypothesis that truck exclusion does not affect density of car accidents is 4.416851617075955e-172\n"
     ]
    }
   ],
   "source": [
    "t_car_truck = scipy.stats.ttest_ind(rd[rd.T_Exc_Type == 1].car_dens_score, \n",
    "                                      rd.query('T_Exc_Type > 1 and T_Exc_Type != 12').car_dens_score,\n",
    "                                          equal_var=False)\n",
    "print('The p-value for rejecting the null hypothesis that truck exclusion does not affect density of car accidents is ' \n",
    "     + str(t_car_truck.pvalue))"
   ]
  },
  {
   "cell_type": "markdown",
   "metadata": {},
   "source": [
    "Truck Exclusion Type 12 means it's a hazardous truck route, so it probably has more truck traffic, and it has a higher mean accident density."
   ]
  },
  {
   "cell_type": "code",
   "execution_count": 62,
   "metadata": {},
   "outputs": [
    {
     "name": "stdout",
     "output_type": "stream",
     "text": [
      "The p-value for rejecting the null hypothesis that hazardous trucks do not affect density of car accidents is 5.0490771546803595e-33\n"
     ]
    }
   ],
   "source": [
    "t_car_truck = scipy.stats.ttest_ind(rd[rd.T_Exc_Type == 1].car_dens_score, \n",
    "                                      rd[rd.T_Exc_Type == 12].car_dens_score,\n",
    "                                          equal_var=False)\n",
    "print('The p-value for rejecting the null hypothesis that hazardous trucks do not affect density of car accidents is ' \n",
    "     + str(t_car_truck.pvalue))"
   ]
  },
  {
   "cell_type": "markdown",
   "metadata": {},
   "source": [
    "Repeating all this for bikes:"
   ]
  },
  {
   "cell_type": "code",
   "execution_count": 64,
   "metadata": {},
   "outputs": [
    {
     "data": {
      "text/plain": [
       "T_Exc_Type\n",
       "-1     0.000075\n",
       " 1     0.000076\n",
       " 2     0.000061\n",
       " 10    0.000022\n",
       " 12    0.000074\n",
       " 13    0.000037\n",
       "Name: bike_dens_score, dtype: float64"
      ]
     },
     "execution_count": 64,
     "metadata": {},
     "output_type": "execute_result"
    }
   ],
   "source": [
    "rd.groupby('T_Exc_Type').bike_dens_score.mean()"
   ]
  },
  {
   "cell_type": "code",
   "execution_count": 65,
   "metadata": {},
   "outputs": [
    {
     "name": "stdout",
     "output_type": "stream",
     "text": [
      "The p-value for rejecting the null hypothesis that truck exclusion does not affect density of bike accidents is 4.4038576516779573e-69\n"
     ]
    }
   ],
   "source": [
    "t_bike_truck = scipy.stats.ttest_ind(rd[rd.T_Exc_Type == 1].bike_dens_score, \n",
    "                                      rd.query('T_Exc_Type > 1 and T_Exc_Type != 12').bike_dens_score,\n",
    "                                          equal_var=False)\n",
    "print('The p-value for rejecting the null hypothesis that truck exclusion does not affect density of bike accidents is ' \n",
    "     + str(t_bike_truck.pvalue))"
   ]
  },
  {
   "cell_type": "code",
   "execution_count": 66,
   "metadata": {},
   "outputs": [
    {
     "name": "stdout",
     "output_type": "stream",
     "text": [
      "The p-value for rejecting the null hypothesis that hazardous trucks do not affect density of bike accidents is 0.25133728012812245\n"
     ]
    }
   ],
   "source": [
    "t_bike_truck = scipy.stats.ttest_ind(rd[rd.T_Exc_Type == 1].bike_dens_score, \n",
    "                                      rd[rd.T_Exc_Type == 12].bike_dens_score,\n",
    "                                          equal_var=False)\n",
    "print('The p-value for rejecting the null hypothesis that hazardous trucks do not affect density of bike accidents is ' \n",
    "     + str(t_bike_truck.pvalue))"
   ]
  },
  {
   "cell_type": "markdown",
   "metadata": {},
   "source": [
    "It looks like the presence of hazardous trucks does not affect bike accidents as much as cars. This makes sense because roads that allow hazardous trucks are not usually bike routes. \n",
    "\n",
    "## Surface Type ##\n",
    "\n",
    "The data for surface types is not very good, but we do have some. -1 and 0 stand for unknown. Otherwise:\n",
    "1 = unimproved, graded earth or soil surface road\n",
    "2 = gravel or stone road\n",
    "3 = brick road\n",
    "4 = block road\n",
    "5 = surface-treated road\n",
    "6 = bituminous concrete road\n",
    "7 = portland cement concrete road\n",
    "8 = Composite road, felxible over rigid\n",
    "9 = Composite road, rigid over flexible or rigid ('white topping')\n",
    "10 = Stone dust"
   ]
  },
  {
   "cell_type": "code",
   "execution_count": 67,
   "metadata": {},
   "outputs": [
    {
     "data": {
      "text/plain": [
       "Surface_Tp\n",
       "-1      2051\n",
       " 0      8743\n",
       " 1        49\n",
       " 2       960\n",
       " 3        73\n",
       " 4       392\n",
       " 5      7895\n",
       " 6     53584\n",
       " 7       337\n",
       " 8        34\n",
       " 9         1\n",
       " 10        3\n",
       "Name: car_acc_score, dtype: int64"
      ]
     },
     "execution_count": 67,
     "metadata": {},
     "output_type": "execute_result"
    }
   ],
   "source": [
    "rd.groupby('Surface_Tp').car_acc_score.count()"
   ]
  },
  {
   "cell_type": "markdown",
   "metadata": {},
   "source": [
    "Only 2, 4, 5, 6, and 7 have much representation at all. Since 6 is the most common, I will compare the others to that."
   ]
  },
  {
   "cell_type": "code",
   "execution_count": 68,
   "metadata": {},
   "outputs": [
    {
     "data": {
      "text/plain": [
       "Surface_Tp\n",
       "-1     0.000209\n",
       " 0     0.000161\n",
       " 1     0.000076\n",
       " 2     0.000055\n",
       " 3     0.000104\n",
       " 4     0.000137\n",
       " 5     0.000064\n",
       " 6     0.000156\n",
       " 7     0.000196\n",
       " 8     0.000050\n",
       " 9     0.000000\n",
       " 10    0.000131\n",
       "Name: car_dens_score, dtype: float64"
      ]
     },
     "execution_count": 68,
     "metadata": {},
     "output_type": "execute_result"
    }
   ],
   "source": [
    "rd.groupby('Surface_Tp').car_dens_score.mean()"
   ]
  },
  {
   "cell_type": "code",
   "execution_count": 70,
   "metadata": {},
   "outputs": [
    {
     "name": "stdout",
     "output_type": "stream",
     "text": [
      "The p-value for rejecting the null hypothesis that there are the same density of car accidents on roads with 2 surface type  1.5752569290492361e-155\n",
      "The p-value for rejecting the null hypothesis that there are the same density of car accidents on roads with 4 surface type  0.08300383548899373\n",
      "The p-value for rejecting the null hypothesis that there are the same density of car accidents on roads with 5 surface type  1.459889886623802e-284\n",
      "The p-value for rejecting the null hypothesis that there are the same density of car accidents on roads with 7 surface type  0.03129269991028368\n"
     ]
    }
   ],
   "source": [
    "for i in [2, 4, 5, 7]:\n",
    "    t_res = scipy.stats.ttest_ind(rd[rd.Surface_Tp == 6].car_dens_score, \n",
    "                                      rd[rd.Surface_Tp == i].car_dens_score,\n",
    "                                          equal_var=False)\n",
    "    print('The p-value for rejecting the null hypothesis that there are the same density of car accidents on roads with '\n",
    "              + str(i) + ' surface type  ' + str(t_res.pvalue))"
   ]
  },
  {
   "cell_type": "markdown",
   "metadata": {},
   "source": [
    "Types 2, 5 and 7 have a statistically significant difference, with 7, Portland Cement, being worse, and the others being better.\n",
    "\n",
    "Now for bikes."
   ]
  },
  {
   "cell_type": "code",
   "execution_count": 71,
   "metadata": {},
   "outputs": [
    {
     "name": "stdout",
     "output_type": "stream",
     "text": [
      "The p-value for rejecting the null hypothesis that there are the same density of bike accidents on roads with 2 surface type is 6.0907638396578336e-43\n",
      "The p-value for rejecting the null hypothesis that there are the same density of bike accidents on roads with 4 surface type is 0.6033852691864727\n",
      "The p-value for rejecting the null hypothesis that there are the same density of bike accidents on roads with 5 surface type is 2.7094755100577365e-181\n",
      "The p-value for rejecting the null hypothesis that there are the same density of bike accidents on roads with 7 surface type is 0.0038848096056272713\n"
     ]
    }
   ],
   "source": [
    "for i in [2, 4, 5, 7]:\n",
    "    t_res = scipy.stats.ttest_ind(rd[rd.Surface_Tp == 6].bike_dens_score, \n",
    "                                      rd[rd.Surface_Tp == i].bike_dens_score,\n",
    "                                          equal_var=False)\n",
    "    print('The p-value for rejecting the null hypothesis that there are the same density of bike accidents on roads with '\n",
    "              + str(i) + ' surface type is ' + str(t_res.pvalue))"
   ]
  },
  {
   "cell_type": "markdown",
   "metadata": {},
   "source": [
    "Similar results as for cars. For more discussion of these results, see The Milestone Report (coming soon)."
   ]
  },
  {
   "cell_type": "code",
   "execution_count": null,
   "metadata": {},
   "outputs": [],
   "source": []
  },
  {
   "cell_type": "code",
   "execution_count": null,
   "metadata": {},
   "outputs": [],
   "source": []
  },
  {
   "cell_type": "code",
   "execution_count": null,
   "metadata": {},
   "outputs": [],
   "source": []
  }
 ],
 "metadata": {
  "kernelspec": {
   "display_name": "Python 3",
   "language": "python",
   "name": "python3"
  },
  "language_info": {
   "codemirror_mode": {
    "name": "ipython",
    "version": 3
   },
   "file_extension": ".py",
   "mimetype": "text/x-python",
   "name": "python",
   "nbconvert_exporter": "python",
   "pygments_lexer": "ipython3",
   "version": "3.7.6"
  }
 },
 "nbformat": 4,
 "nbformat_minor": 4
}
