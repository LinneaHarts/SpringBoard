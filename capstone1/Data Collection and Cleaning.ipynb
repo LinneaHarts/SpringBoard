{
 "cells": [
  {
   "cell_type": "markdown",
   "metadata": {},
   "source": [
    "# Using Bike Collision and Other Data to Predict Car Accidents #\n",
    "## Data Collection and Cleaning ##\n",
    "\n",
    "Harvard University has collected a number of Boston Area data sets ffor their Boston Area Research Intitiative. The key data for this project about predicting bike accidents was derived from Boston Police Department incident narrative reports, as organized and compiled by Dahianna Lobez and partners ad BPD, BARI, and the Boston Cyclists Union.\n",
    "\n",
    "This data is for collisions that occured between 2009 and 2012."
   ]
  },
  {
   "cell_type": "markdown",
   "metadata": {},
   "source": [
    "### Bike Collision Data ###"
   ]
  },
  {
   "cell_type": "code",
   "execution_count": 4,
   "metadata": {},
   "outputs": [],
   "source": [
    "import pandas as pd\n",
    "import geopandas as gpd\n",
    "import math\n",
    "from shapely.geometry import Point, LineString, Polygon\n",
    "from pyproj import Proj, transform\n",
    "from matplotlib import pyplot as plt"
   ]
  },
  {
   "cell_type": "code",
   "execution_count": 5,
   "metadata": {},
   "outputs": [
    {
     "name": "stdout",
     "output_type": "stream",
     "text": [
      "<class 'pandas.core.frame.DataFrame'>\n",
      "RangeIndex: 1808 entries, 0 to 1807\n",
      "Data columns (total 54 columns):\n",
      " #   Column      Non-Null Count  Dtype         \n",
      "---  ------      --------------  -----         \n",
      " 0   ID          1808 non-null   object        \n",
      " 1   YEAR        1797 non-null   float64       \n",
      " 2   DATE        1797 non-null   datetime64[ns]\n",
      " 3   DAY_WEEK    1795 non-null   object        \n",
      " 4   TIME        1797 non-null   object        \n",
      " 5   TYPE        1795 non-null   object        \n",
      " 6   SOURCE      1699 non-null   object        \n",
      " 7   XFINAL      1731 non-null   float64       \n",
      " 8   Xkm         1730 non-null   float64       \n",
      " 9   YFINAL      1731 non-null   float64       \n",
      " 10  Ykm         1731 non-null   float64       \n",
      " 11  Address     1730 non-null   object        \n",
      " 12  Main        1731 non-null   float64       \n",
      " 13  RoadType    1726 non-null   object        \n",
      " 14  ISINTERSEC  1807 non-null   float64       \n",
      " 15  TRACT       1731 non-null   float64       \n",
      " 16  CouncilDIS  1731 non-null   float64       \n",
      " 17  Councillor  1726 non-null   object        \n",
      " 18  PlanningDi  1726 non-null   object        \n",
      " 19  OIF1        1805 non-null   float64       \n",
      " 20  OIF2        1808 non-null   int64         \n",
      " 21  OIF3        1808 non-null   int64         \n",
      " 22  OIF4        1808 non-null   int64         \n",
      " 23  BLFinal     1808 non-null   int64         \n",
      " 24  CS          1808 non-null   int64         \n",
      " 25  LIGHTING    1557 non-null   object        \n",
      " 26  Indoor      1781 non-null   float64       \n",
      " 27  Light       1743 non-null   float64       \n",
      " 28  LightEng    1797 non-null   float64       \n",
      " 29  WEATHER     1594 non-null   object        \n",
      " 30  PrecipCond  1797 non-null   float64       \n",
      " 31  AtmosCondi  1797 non-null   float64       \n",
      " 32  DayNight    1797 non-null   float64       \n",
      " 33  Tmax        1797 non-null   float64       \n",
      " 34  Tmin        1797 non-null   float64       \n",
      " 35  Tavg        1797 non-null   float64       \n",
      " 36  Temprange   1797 non-null   float64       \n",
      " 37  SunriseTim  1797 non-null   object        \n",
      " 38  SunsetTime  1797 non-null   object        \n",
      " 39  SnowFall    1797 non-null   float64       \n",
      " 40  PrecipTota  1797 non-null   float64       \n",
      " 41  Fault       1807 non-null   float64       \n",
      " 42  Doored      1804 non-null   float64       \n",
      " 43  HelmetDocu  1807 non-null   float64       \n",
      " 44  TaxiFinal   1807 non-null   float64       \n",
      " 45  hitrunfina  1807 non-null   float64       \n",
      " 46  AlcoholFin  1807 non-null   float64       \n",
      " 47  INJURED     1804 non-null   float64       \n",
      " 48  TRANSPORTE  1804 non-null   float64       \n",
      " 49  TREATED     1804 non-null   float64       \n",
      " 50  GENDER      1730 non-null   object        \n",
      " 51  ETHNICITY   1730 non-null   object        \n",
      " 52  AGE         1669 non-null   float64       \n",
      " 53  Narrative   1806 non-null   object        \n",
      "dtypes: datetime64[ns](1), float64(32), int64(5), object(16)\n",
      "memory usage: 762.9+ KB\n"
     ]
    }
   ],
   "source": [
    "bike_df_orig = pd.read_excel('data/Final_Bike_Collision_Database.xlsx')\n",
    "bike_df_orig.info()"
   ]
  },
  {
   "cell_type": "markdown",
   "metadata": {},
   "source": [
    "**Xkm** and **Ykm** encode the location of the accident. For this project I'm not interested in accidents that don't have a location, so I'll drop the rows with missing locations.\n",
    "\n",
    "I also want to make sure there aren't outliers in the location data. The Xkm and Ykm values are meter coordinates in a Massachusetts-specific geographic system. I'll convert them to latitude and logitude and make sure that they don't exceed the map of Boston."
   ]
  },
  {
   "cell_type": "code",
   "execution_count": 6,
   "metadata": {},
   "outputs": [
    {
     "name": "stdout",
     "output_type": "stream",
     "text": [
      "Upper Right: \n",
      "42.385920811282396 -71.00003640589748\n",
      "Bottom Right:\n",
      "42.23530626734878 -71.00003640589748\n",
      "Top Right: \n",
      "42.385920811282396 -71.17443656586595\n",
      "Bottom Left: \n",
      "42.23530626734878 -71.17443656586595\n"
     ]
    }
   ],
   "source": [
    "bike_df = pd.DataFrame(bike_df_orig[(bike_df_orig.Xkm > 0) & (bike_df_orig.Ykm > 0)])\n",
    "\n",
    "# convert the bike data locations into latitude and longitudes and find the geographic extent\n",
    "inProj = Proj('epsg:26986')\n",
    "outProj = Proj('epsg:4326')\n",
    "xmax,ymax = bike_df['Xkm'].max(),bike_df['Ykm'].max()\n",
    "xmax2,ymax2 = transform(inProj,outProj,xmax,ymax)\n",
    "print ('Upper Right: ')\n",
    "print (xmax2,ymax2)\n",
    "\n",
    "xmin,ymin = bike_df['Xkm'].min(),bike_df['Ykm'].min()\n",
    "xmin2,ymin2 = transform(inProj,outProj,xmin,ymin)\n",
    "\n",
    "print('Bottom Right:')\n",
    "print(xmin2, ymax2)\n",
    "\n",
    "print('Top Right: ')\n",
    "print(xmax2, ymin2)\n",
    "\n",
    "print ('Bottom Left: ')\n",
    "print (xmin2,ymin2)"
   ]
  },
  {
   "cell_type": "markdown",
   "metadata": {},
   "source": [
    "The other columns we may be interested in are RoadType and ISINTERSECT but we can find that data from our other data sets as well, so I'll consider data cleaning on Bike Collision data done at this point."
   ]
  },
  {
   "cell_type": "code",
   "execution_count": 4,
   "metadata": {},
   "outputs": [],
   "source": [
    "#output saved bike info for later use\n",
    "bike_df.to_csv(r'data/cleaned_data/bike_accident_clean.csv')"
   ]
  },
  {
   "cell_type": "markdown",
   "metadata": {},
   "source": [
    "### Car Accident Data ###\n",
    "Car accident crash data is from kaggle. https://www.kaggle.com/sobhanmoosavi/us-accidents and shows car accidents in 2019."
   ]
  },
  {
   "cell_type": "code",
   "execution_count": 5,
   "metadata": {},
   "outputs": [
    {
     "data": {
      "text/plain": [
       "2974335"
      ]
     },
     "execution_count": 5,
     "metadata": {},
     "output_type": "execute_result"
    }
   ],
   "source": [
    "car_df = pd.read_csv('data/US_Accidents_Dec19.csv')\n",
    "len(car_df)"
   ]
  },
  {
   "cell_type": "markdown",
   "metadata": {},
   "source": [
    "This is a massive file with nearly 3 million rows and that covers the whole of the US, so the first task is to limit it to the same area as the bike accidents above."
   ]
  },
  {
   "cell_type": "code",
   "execution_count": 6,
   "metadata": {},
   "outputs": [
    {
     "data": {
      "text/plain": [
       "6343"
      ]
     },
     "execution_count": 6,
     "metadata": {},
     "output_type": "execute_result"
    }
   ],
   "source": [
    "# To capture accidents that may have happened at the edges of the bike collision area\n",
    "# keep accidents that either start or end within the area\n",
    "car_df = car_df[((car_df['Start_Lat'] <= xmax2) & (car_df['Start_Lat'] >= xmin2) & \n",
    "                 (car_df['Start_Lng'] <= ymax2) & (car_df['Start_Lng'] >= ymin2) |\n",
    "                (car_df['End_Lat'] <= xmax2) & (car_df['End_Lat'] >= xmin2) & \n",
    "                 (car_df['End_Lng'] <= ymax2) & (car_df['End_Lng'] >= ymin2))]\n",
    "\n",
    "# Re-index because we've removed a lot of values\n",
    "car_df = car_df.reset_index()\n",
    "\n",
    "len(car_df)"
   ]
  },
  {
   "cell_type": "markdown",
   "metadata": {},
   "source": [
    "No other cleaning is necessary on this data, since the only thing I'm interested in is accident locations.\n",
    "\n",
    "The Mass DOT geospatial system is convenient for this project, so I'll add new columns to contain that data."
   ]
  },
  {
   "cell_type": "code",
   "execution_count": 31,
   "metadata": {},
   "outputs": [
    {
     "data": {
      "text/plain": [
       "6343"
      ]
     },
     "execution_count": 31,
     "metadata": {},
     "output_type": "execute_result"
    }
   ],
   "source": [
    "inProj = Proj('epsg:4326')\n",
    "outProj = Proj('epsg:26986')\n",
    "\n",
    "#loop through car datafram to create a list of lists containing the new coordinates\n",
    "points_list = []\n",
    "for index, row in car_df.iterrows():\n",
    "    points_row = []\n",
    "    start_points = list(transform(inProj,outProj,row['Start_Lat'],row['Start_Lng']))\n",
    "    points_row.append(start_points[0])\n",
    "    points_row.append(start_points[1])\n",
    "    end_points = list(transform(inProj,outProj,row['End_Lat'],row['End_Lng']))\n",
    "    points_row.append(end_points[0])\n",
    "    points_row.append(end_points[1])\n",
    "    points_list.append(points_row)\n",
    "\n",
    "converted_car_df = pd.DataFrame(points_list, columns=['Start_Xkm', 'Start_Ykm', 'End_Xkm', 'End_Ykm'])\n",
    "len(converted_car_df)\n",
    "#car_df[['Start_Xkm', 'Start_Ykm']] = transform(inProj,outProj,car_df['Start_Lat'],car_df['Start_Lng'])\n",
    "\n"
   ]
  },
  {
   "cell_type": "markdown",
   "metadata": {},
   "source": [
    "That was an extremely time-consuming conversion. Here I've outputted the converted data for posterity so I don't have to do that again. Then I'm adding these as columns to the car data, and outputting that as well."
   ]
  },
  {
   "cell_type": "code",
   "execution_count": 40,
   "metadata": {},
   "outputs": [],
   "source": [
    "#output convered car accident locations for later use\n",
    "converted_car_df.to_csv(r'data/cleaned_data/converted_car_locs.csv')\n",
    "\n"
   ]
  },
  {
   "cell_type": "code",
   "execution_count": 35,
   "metadata": {},
   "outputs": [
    {
     "data": {
      "text/html": [
       "<div>\n",
       "<style scoped>\n",
       "    .dataframe tbody tr th:only-of-type {\n",
       "        vertical-align: middle;\n",
       "    }\n",
       "\n",
       "    .dataframe tbody tr th {\n",
       "        vertical-align: top;\n",
       "    }\n",
       "\n",
       "    .dataframe thead th {\n",
       "        text-align: right;\n",
       "    }\n",
       "</style>\n",
       "<table border=\"1\" class=\"dataframe\">\n",
       "  <thead>\n",
       "    <tr style=\"text-align: right;\">\n",
       "      <th></th>\n",
       "      <th>index</th>\n",
       "      <th>ID</th>\n",
       "      <th>Source</th>\n",
       "      <th>TMC</th>\n",
       "      <th>Severity</th>\n",
       "      <th>Start_Time</th>\n",
       "      <th>End_Time</th>\n",
       "      <th>Start_Lat</th>\n",
       "      <th>Start_Lng</th>\n",
       "      <th>End_Lat</th>\n",
       "      <th>...</th>\n",
       "      <th>Traffic_Signal</th>\n",
       "      <th>Turning_Loop</th>\n",
       "      <th>Sunrise_Sunset</th>\n",
       "      <th>Civil_Twilight</th>\n",
       "      <th>Nautical_Twilight</th>\n",
       "      <th>Astronomical_Twilight</th>\n",
       "      <th>Start_Xkm</th>\n",
       "      <th>Start_Ykm</th>\n",
       "      <th>End_Xkm</th>\n",
       "      <th>End_Ykm</th>\n",
       "    </tr>\n",
       "  </thead>\n",
       "  <tbody>\n",
       "    <tr>\n",
       "      <th>0</th>\n",
       "      <td>194279</td>\n",
       "      <td>A-194281</td>\n",
       "      <td>MapQuest</td>\n",
       "      <td>201.0</td>\n",
       "      <td>2</td>\n",
       "      <td>2016-11-30 17:18:00</td>\n",
       "      <td>2016-11-30 18:35:00</td>\n",
       "      <td>42.251457</td>\n",
       "      <td>-71.002701</td>\n",
       "      <td>NaN</td>\n",
       "      <td>...</td>\n",
       "      <td>False</td>\n",
       "      <td>False</td>\n",
       "      <td>Night</td>\n",
       "      <td>Night</td>\n",
       "      <td>Night</td>\n",
       "      <td>Day</td>\n",
       "      <td>241037.320696</td>\n",
       "      <td>889118.737133</td>\n",
       "      <td>NaN</td>\n",
       "      <td>NaN</td>\n",
       "    </tr>\n",
       "    <tr>\n",
       "      <th>1</th>\n",
       "      <td>194286</td>\n",
       "      <td>A-194288</td>\n",
       "      <td>MapQuest</td>\n",
       "      <td>201.0</td>\n",
       "      <td>3</td>\n",
       "      <td>2016-11-30 17:57:43</td>\n",
       "      <td>2016-11-30 19:12:25</td>\n",
       "      <td>42.298656</td>\n",
       "      <td>-71.047501</td>\n",
       "      <td>NaN</td>\n",
       "      <td>...</td>\n",
       "      <td>False</td>\n",
       "      <td>False</td>\n",
       "      <td>Night</td>\n",
       "      <td>Night</td>\n",
       "      <td>Night</td>\n",
       "      <td>Night</td>\n",
       "      <td>237312.630240</td>\n",
       "      <td>894340.699035</td>\n",
       "      <td>NaN</td>\n",
       "      <td>NaN</td>\n",
       "    </tr>\n",
       "    <tr>\n",
       "      <th>2</th>\n",
       "      <td>194332</td>\n",
       "      <td>A-194334</td>\n",
       "      <td>MapQuest</td>\n",
       "      <td>201.0</td>\n",
       "      <td>2</td>\n",
       "      <td>2016-12-01 05:13:34</td>\n",
       "      <td>2016-12-01 05:43:02</td>\n",
       "      <td>42.335854</td>\n",
       "      <td>-71.107498</td>\n",
       "      <td>NaN</td>\n",
       "      <td>...</td>\n",
       "      <td>True</td>\n",
       "      <td>False</td>\n",
       "      <td>Night</td>\n",
       "      <td>Night</td>\n",
       "      <td>Night</td>\n",
       "      <td>Night</td>\n",
       "      <td>232346.360202</td>\n",
       "      <td>898447.945054</td>\n",
       "      <td>NaN</td>\n",
       "      <td>NaN</td>\n",
       "    </tr>\n",
       "    <tr>\n",
       "      <th>3</th>\n",
       "      <td>194338</td>\n",
       "      <td>A-194340</td>\n",
       "      <td>MapQuest</td>\n",
       "      <td>201.0</td>\n",
       "      <td>3</td>\n",
       "      <td>2016-12-01 06:15:12</td>\n",
       "      <td>2016-12-01 06:44:56</td>\n",
       "      <td>42.330719</td>\n",
       "      <td>-71.060905</td>\n",
       "      <td>NaN</td>\n",
       "      <td>...</td>\n",
       "      <td>False</td>\n",
       "      <td>False</td>\n",
       "      <td>Night</td>\n",
       "      <td>Night</td>\n",
       "      <td>Day</td>\n",
       "      <td>Day</td>\n",
       "      <td>236189.025531</td>\n",
       "      <td>897896.294689</td>\n",
       "      <td>NaN</td>\n",
       "      <td>NaN</td>\n",
       "    </tr>\n",
       "    <tr>\n",
       "      <th>4</th>\n",
       "      <td>194397</td>\n",
       "      <td>A-194399</td>\n",
       "      <td>MapQuest</td>\n",
       "      <td>201.0</td>\n",
       "      <td>2</td>\n",
       "      <td>2016-12-01 07:59:19</td>\n",
       "      <td>2016-12-01 08:28:54</td>\n",
       "      <td>42.361366</td>\n",
       "      <td>-71.072342</td>\n",
       "      <td>NaN</td>\n",
       "      <td>...</td>\n",
       "      <td>False</td>\n",
       "      <td>False</td>\n",
       "      <td>Day</td>\n",
       "      <td>Day</td>\n",
       "      <td>Day</td>\n",
       "      <td>Day</td>\n",
       "      <td>235229.359109</td>\n",
       "      <td>901295.621937</td>\n",
       "      <td>NaN</td>\n",
       "      <td>NaN</td>\n",
       "    </tr>\n",
       "  </tbody>\n",
       "</table>\n",
       "<p>5 rows × 54 columns</p>\n",
       "</div>"
      ],
      "text/plain": [
       "    index        ID    Source    TMC  Severity           Start_Time  \\\n",
       "0  194279  A-194281  MapQuest  201.0         2  2016-11-30 17:18:00   \n",
       "1  194286  A-194288  MapQuest  201.0         3  2016-11-30 17:57:43   \n",
       "2  194332  A-194334  MapQuest  201.0         2  2016-12-01 05:13:34   \n",
       "3  194338  A-194340  MapQuest  201.0         3  2016-12-01 06:15:12   \n",
       "4  194397  A-194399  MapQuest  201.0         2  2016-12-01 07:59:19   \n",
       "\n",
       "              End_Time  Start_Lat  Start_Lng  End_Lat  ...  Traffic_Signal  \\\n",
       "0  2016-11-30 18:35:00  42.251457 -71.002701      NaN  ...           False   \n",
       "1  2016-11-30 19:12:25  42.298656 -71.047501      NaN  ...           False   \n",
       "2  2016-12-01 05:43:02  42.335854 -71.107498      NaN  ...            True   \n",
       "3  2016-12-01 06:44:56  42.330719 -71.060905      NaN  ...           False   \n",
       "4  2016-12-01 08:28:54  42.361366 -71.072342      NaN  ...           False   \n",
       "\n",
       "   Turning_Loop Sunrise_Sunset  Civil_Twilight Nautical_Twilight  \\\n",
       "0         False          Night           Night             Night   \n",
       "1         False          Night           Night             Night   \n",
       "2         False          Night           Night             Night   \n",
       "3         False          Night           Night               Day   \n",
       "4         False            Day             Day               Day   \n",
       "\n",
       "  Astronomical_Twilight      Start_Xkm      Start_Ykm End_Xkm End_Ykm  \n",
       "0                   Day  241037.320696  889118.737133     NaN     NaN  \n",
       "1                 Night  237312.630240  894340.699035     NaN     NaN  \n",
       "2                 Night  232346.360202  898447.945054     NaN     NaN  \n",
       "3                   Day  236189.025531  897896.294689     NaN     NaN  \n",
       "4                   Day  235229.359109  901295.621937     NaN     NaN  \n",
       "\n",
       "[5 rows x 54 columns]"
      ]
     },
     "execution_count": 35,
     "metadata": {},
     "output_type": "execute_result"
    }
   ],
   "source": [
    "car_df = pd.concat([car_df, converted_car_df], axis=1)\n",
    "car_df.head()"
   ]
  },
  {
   "cell_type": "code",
   "execution_count": 39,
   "metadata": {},
   "outputs": [],
   "source": [
    "car_df.to_csv(r'data/cleaned_data/car_accidents_cleaned.csv')"
   ]
  },
  {
   "cell_type": "markdown",
   "metadata": {},
   "source": [
    "### Road Data ###\n",
    "Mass DOT has a database of road data in a .gpd file (https://geo-massdot.opendata.arcgis.com/datasets/road-inventory-2018). This has geometric data about the roads which will be very helpful, and a lot of qualitative road data with a code book [here](RI-DataDictionary.pdf)."
   ]
  },
  {
   "cell_type": "markdown",
   "metadata": {},
   "source": [
    "I'm going to read in the full roads database, trim to only Boston data, and see if I can find the missing values."
   ]
  },
  {
   "cell_type": "code",
   "execution_count": 38,
   "metadata": {},
   "outputs": [
    {
     "name": "stdout",
     "output_type": "stream",
     "text": [
      "<class 'geopandas.geodataframe.GeoDataFrame'>\n",
      "RangeIndex: 573677 entries, 0 to 573676\n",
      "Data columns (total 70 columns):\n",
      " #   Column           Non-Null Count   Dtype   \n",
      "---  ------           --------------   -----   \n",
      " 0   Route_ID         573677 non-null  object  \n",
      " 1   From_Measure     573677 non-null  float64 \n",
      " 2   To_Measure       573677 non-null  float64 \n",
      " 3   Route_System     573676 non-null  object  \n",
      " 4   Route_Number     573676 non-null  object  \n",
      " 5   Route_Direction  558198 non-null  object  \n",
      " 6   Rd_Seg_ID        217904 non-null  float64 \n",
      " 7   Facility         465908 non-null  float64 \n",
      " 8   Mile_Count       463858 non-null  float64 \n",
      " 9   F_Class          563956 non-null  float64 \n",
      " 10  Urban_Area       563682 non-null  object  \n",
      " 11  Urban_Type       563682 non-null  float64 \n",
      " 12  F_F_Class        563956 non-null  float64 \n",
      " 13  Jurisdictn       562317 non-null  object  \n",
      " 14  NHS              561914 non-null  float64 \n",
      " 15  Fd_Aid_Rd        216217 non-null  float64 \n",
      " 16  Control          553173 non-null  float64 \n",
      " 17  Num_Lanes        557503 non-null  float64 \n",
      " 18  Opp_Lanes        557308 non-null  float64 \n",
      " 19  Surface_Tp       553698 non-null  float64 \n",
      " 20  Surface_Wd       553707 non-null  float64 \n",
      " 21  Shldr_Rt_W       553667 non-null  float64 \n",
      " 22  Shldr_Rt_T       553668 non-null  float64 \n",
      " 23  Shldr_Lt_W       554141 non-null  float64 \n",
      " 24  Shldr_Lt_T       554136 non-null  float64 \n",
      " 25  Shldr_UL_W       553741 non-null  float64 \n",
      " 26  Shldr_UL_T       553725 non-null  float64 \n",
      " 27  Med_Width        554017 non-null  float64 \n",
      " 28  Med_Type         553890 non-null  float64 \n",
      " 29  Curb             457226 non-null  float64 \n",
      " 30  Lt_Sidewlk       554668 non-null  float64 \n",
      " 31  Rt_Sidewlk       554682 non-null  float64 \n",
      " 32  Pd_Sf_Type       1959 non-null    float64 \n",
      " 33  Pd_Fc_Type       1358 non-null    float64 \n",
      " 34  Cr_Slope         0 non-null       object  \n",
      " 35  Path_Width       1958 non-null    float64 \n",
      " 36  Operation        454819 non-null  float64 \n",
      " 37  Speed_Lim        238520 non-null  float64 \n",
      " 38  Op_Dir_SL        218215 non-null  float64 \n",
      " 39  Speed            51657 non-null   float64 \n",
      " 40  Truck            0 non-null       object  \n",
      " 41  T_Exc_Type       550933 non-null  float64 \n",
      " 42  T_Exc_Time       550933 non-null  float64 \n",
      " 43  Trk_Permit       6112 non-null    object  \n",
      " 44  Trk_Netwrk       2432 non-null    float64 \n",
      " 45  Truck_Rte        550933 non-null  float64 \n",
      " 46  ROW_Width        440674 non-null  float64 \n",
      " 47  Struct_Cnd       453228 non-null  float64 \n",
      " 48  Terrain          553737 non-null  float64 \n",
      " 49  Toll_Road        1279 non-null    float64 \n",
      " 50  MHS              465 non-null     float64 \n",
      " 51  City             565970 non-null  float64 \n",
      " 52  Mun_Type         563740 non-null  float64 \n",
      " 53  County           565969 non-null  float64 \n",
      " 54  Hwy_Dist         565954 non-null  float64 \n",
      " 55  MPO              573677 non-null  object  \n",
      " 56  RPA              564405 non-null  object  \n",
      " 57  RTA              563518 non-null  object  \n",
      " 58  St_Name          561600 non-null  object  \n",
      " 59  Fm_St_Name       561604 non-null  object  \n",
      " 60  To_St_Name       561578 non-null  object  \n",
      " 61  City_Maint       560816 non-null  float64 \n",
      " 62  AADT             449344 non-null  float64 \n",
      " 63  AADT_Year        213100 non-null  float64 \n",
      " 64  AADT_Deriv       213092 non-null  float64 \n",
      " 65  Statn_Num        9722 non-null    float64 \n",
      " 66  StationID        9561 non-null    object  \n",
      " 67  Length           573677 non-null  float64 \n",
      " 68  Shape_Length     573677 non-null  float64 \n",
      " 69  geometry         573677 non-null  geometry\n",
      "dtypes: float64(53), geometry(1), object(16)\n",
      "memory usage: 306.4+ MB\n"
     ]
    }
   ],
   "source": [
    "roads_2018 = gpd.read_file('data\\RoadInv2018.gdb', layer=0)\n",
    "roads_2018.info()"
   ]
  },
  {
   "cell_type": "markdown",
   "metadata": {},
   "source": [
    "To limit roads_2018 to only boston roads, I'll use geopandas functions to remove roads that aren't in the bike accident extent."
   ]
  },
  {
   "cell_type": "code",
   "execution_count": 39,
   "metadata": {},
   "outputs": [],
   "source": [
    "# Create shape that contains all bike accidents using mins and maxes from above\n",
    "bike_shape = Polygon([(xmin, ymin), (xmin, ymax), (xmax, ymax), (xmax, ymin)])"
   ]
  },
  {
   "cell_type": "code",
   "execution_count": 40,
   "metadata": {},
   "outputs": [],
   "source": [
    "# Rename geometry column so I don't lose it during the overlay\n",
    "roads_2018 = roads_2018.rename(columns={'geometry': 'road_shape'})"
   ]
  },
  {
   "cell_type": "code",
   "execution_count": 42,
   "metadata": {},
   "outputs": [],
   "source": [
    "# In order to perform an interection, I need a column in roads_2018 that contains polygons\n",
    "roads_2018 = roads_2018.set_geometry('road_shape')\n",
    "roads_2018['buffer'] = roads_2018['road_shape'].buffer(50)\n",
    "roads_2018 = roads_2018.set_geometry('buffer')"
   ]
  },
  {
   "cell_type": "code",
   "execution_count": 44,
   "metadata": {},
   "outputs": [],
   "source": [
    "# Create GeoDataFrame out of bike shape to enable overlay\n",
    "bike_df = gpd.GeoDataFrame({ 'shape': [bike_shape]})\n",
    "bike_df = bike_df.set_geometry('shape')"
   ]
  },
  {
   "cell_type": "code",
   "execution_count": 45,
   "metadata": {},
   "outputs": [],
   "source": [
    "rd_gdf = gpd.overlay(bike_df, roads_2018, how='intersection')"
   ]
  },
  {
   "cell_type": "code",
   "execution_count": 46,
   "metadata": {},
   "outputs": [
    {
     "data": {
      "text/plain": [
       "34049"
      ]
     },
     "execution_count": 46,
     "metadata": {},
     "output_type": "execute_result"
    }
   ],
   "source": [
    "len(rd_gdf)"
   ]
  },
  {
   "cell_type": "code",
   "execution_count": 47,
   "metadata": {},
   "outputs": [
    {
     "name": "stdout",
     "output_type": "stream",
     "text": [
      "<class 'geopandas.geodataframe.GeoDataFrame'>\n",
      "RangeIndex: 34049 entries, 0 to 34048\n",
      "Data columns (total 71 columns):\n",
      " #   Column           Non-Null Count  Dtype   \n",
      "---  ------           --------------  -----   \n",
      " 0   Route_ID         34049 non-null  object  \n",
      " 1   From_Measure     34049 non-null  float64 \n",
      " 2   To_Measure       34049 non-null  float64 \n",
      " 3   Route_System     34049 non-null  object  \n",
      " 4   Route_Number     34049 non-null  object  \n",
      " 5   Route_Direction  32659 non-null  object  \n",
      " 6   Rd_Seg_ID        13195 non-null  float64 \n",
      " 7   Facility         29161 non-null  float64 \n",
      " 8   Mile_Count       29154 non-null  float64 \n",
      " 9   F_Class          33369 non-null  float64 \n",
      " 10  Urban_Area       33368 non-null  object  \n",
      " 11  Urban_Type       33368 non-null  float64 \n",
      " 12  F_F_Class        33369 non-null  float64 \n",
      " 13  Jurisdictn       33152 non-null  object  \n",
      " 14  NHS              33324 non-null  float64 \n",
      " 15  Fd_Aid_Rd        13122 non-null  float64 \n",
      " 16  Control          33169 non-null  float64 \n",
      " 17  Num_Lanes        33316 non-null  float64 \n",
      " 18  Opp_Lanes        33316 non-null  float64 \n",
      " 19  Surface_Tp       33187 non-null  float64 \n",
      " 20  Surface_Wd       33187 non-null  float64 \n",
      " 21  Shldr_Rt_W       33190 non-null  float64 \n",
      " 22  Shldr_Rt_T       33190 non-null  float64 \n",
      " 23  Shldr_Lt_W       33187 non-null  float64 \n",
      " 24  Shldr_Lt_T       33187 non-null  float64 \n",
      " 25  Shldr_UL_W       33182 non-null  float64 \n",
      " 26  Shldr_UL_T       33182 non-null  float64 \n",
      " 27  Med_Width        33154 non-null  float64 \n",
      " 28  Med_Type         33036 non-null  float64 \n",
      " 29  Curb             28042 non-null  float64 \n",
      " 30  Lt_Sidewlk       33191 non-null  float64 \n",
      " 31  Rt_Sidewlk       33191 non-null  float64 \n",
      " 32  Pd_Sf_Type       1 non-null      float64 \n",
      " 33  Pd_Fc_Type       9 non-null      float64 \n",
      " 34  Cr_Slope         0 non-null      object  \n",
      " 35  Path_Width       0 non-null      float64 \n",
      " 36  Operation        28743 non-null  float64 \n",
      " 37  Speed_Lim        13442 non-null  float64 \n",
      " 38  Op_Dir_SL        13210 non-null  float64 \n",
      " 39  Speed            619 non-null    float64 \n",
      " 40  Truck            0 non-null      object  \n",
      " 41  T_Exc_Type       33022 non-null  float64 \n",
      " 42  T_Exc_Time       33022 non-null  float64 \n",
      " 43  Trk_Permit       1419 non-null   object  \n",
      " 44  Trk_Netwrk       149 non-null    float64 \n",
      " 45  Truck_Rte        33022 non-null  float64 \n",
      " 46  ROW_Width        27830 non-null  float64 \n",
      " 47  Struct_Cnd       28228 non-null  float64 \n",
      " 48  Terrain          33182 non-null  float64 \n",
      " 49  Toll_Road        347 non-null    float64 \n",
      " 50  MHS              332 non-null    float64 \n",
      " 51  City             33733 non-null  float64 \n",
      " 52  Mun_Type         33700 non-null  float64 \n",
      " 53  County           33733 non-null  float64 \n",
      " 54  Hwy_Dist         33733 non-null  float64 \n",
      " 55  MPO              34049 non-null  object  \n",
      " 56  RPA              33705 non-null  object  \n",
      " 57  RTA              33700 non-null  object  \n",
      " 58  St_Name          33295 non-null  object  \n",
      " 59  Fm_St_Name       33295 non-null  object  \n",
      " 60  To_St_Name       33295 non-null  object  \n",
      " 61  City_Maint       33234 non-null  float64 \n",
      " 62  AADT             27825 non-null  float64 \n",
      " 63  AADT_Year        12396 non-null  float64 \n",
      " 64  AADT_Deriv       12390 non-null  float64 \n",
      " 65  Statn_Num        1048 non-null   float64 \n",
      " 66  StationID        1009 non-null   object  \n",
      " 67  Length           34049 non-null  float64 \n",
      " 68  Shape_Length     34049 non-null  float64 \n",
      " 69  road_shape       34049 non-null  geometry\n",
      " 70  geometry         34049 non-null  geometry\n",
      "dtypes: float64(53), geometry(2), object(16)\n",
      "memory usage: 18.4+ MB\n"
     ]
    }
   ],
   "source": [
    "rd_gdf.info()"
   ]
  },
  {
   "cell_type": "markdown",
   "metadata": {},
   "source": [
    "Spot checking some values for outliers.\n"
   ]
  },
  {
   "cell_type": "code",
   "execution_count": 35,
   "metadata": {},
   "outputs": [
    {
     "data": {
      "text/plain": [
       "<matplotlib.axes._subplots.AxesSubplot at 0x1e1f2ca1448>"
      ]
     },
     "execution_count": 35,
     "metadata": {},
     "output_type": "execute_result"
    },
    {
     "data": {
      "image/png": "[encoded data removed]",
      "text/plain": [
       "<Figure size 432x288 with 1 Axes>"
      ]
     },
     "metadata": {
      "needs_background": "light"
     },
     "output_type": "display_data"
    }
   ],
   "source": [
    "rd_gdf['Surface_Wd'].hist()"
   ]
  },
  {
   "cell_type": "code",
   "execution_count": 36,
   "metadata": {},
   "outputs": [
    {
     "data": {
      "text/plain": [
       "<matplotlib.axes._subplots.AxesSubplot at 0x1e1f2ca9b88>"
      ]
     },
     "execution_count": 36,
     "metadata": {},
     "output_type": "execute_result"
    },
    {
     "data": {
      "image/png": "[encoded data removed]",
      "text/plain": [
       "<Figure size 432x288 with 1 Axes>"
      ]
     },
     "metadata": {
      "needs_background": "light"
     },
     "output_type": "display_data"
    }
   ],
   "source": [
    "rd_gdf['Med_Width'].hist()"
   ]
  },
  {
   "cell_type": "markdown",
   "metadata": {},
   "source": [
    "250m width for the road median seems like it might be an outlier, but it's not impossible on a highway. I may want to remove highways, but we'll see, and they don't make up many of the roads in Boston anyway."
   ]
  },
  {
   "cell_type": "code",
   "execution_count": 48,
   "metadata": {},
   "outputs": [],
   "source": [
    "# output to file\n",
    "rd_gdf.to_csv(r'data/cleaned_data/boston_roads_gpd.csv')"
   ]
  }
 ],
 "metadata": {
  "kernelspec": {
   "display_name": "Python 3",
   "language": "python",
   "name": "python3"
  },
  "language_info": {
   "codemirror_mode": {
    "name": "ipython",
    "version": 3
   },
   "file_extension": ".py",
   "mimetype": "text/x-python",
   "name": "python",
   "nbconvert_exporter": "python",
   "pygments_lexer": "ipython3",
   "version": "3.7.6"
  }
 },
 "nbformat": 4,
 "nbformat_minor": 4
}
