{
 "cells": [
  {
   "cell_type": "markdown",
   "metadata": {},
   "source": [
    "# Using Bike Collision and Other Data to Predict Car Accidents #\n",
    "## Data Collection and Cleaning ##\n",
    "\n",
    "Harvard University has collected a number of Boston Area data sets ffor their Boston Area Research Intitiative. The key data for this project about predicting bike accidents was derived from Boston Police Department incident narrative reports, as organized and compiled by Dahianna Lobez and partners ad BPD, BARI, and the Boston Cyclists Union.\n",
    "\n",
    "This data is for collisions that occured between 2009 and 2012."
   ]
  },
  {
   "cell_type": "markdown",
   "metadata": {},
   "source": [
    "### Bike Collision Data ###"
   ]
  },
  {
   "cell_type": "code",
   "execution_count": 1,
   "metadata": {},
   "outputs": [],
   "source": [
    "import pandas as pd\n",
    "import geopandas as gpd\n",
    "import math\n",
    "from shapely.geometry import Point, LineString, Polygon\n",
    "from pyproj import Proj, transform\n",
    "from matplotlib import pyplot as plt"
   ]
  },
  {
   "cell_type": "code",
   "execution_count": 11,
   "metadata": {},
   "outputs": [
    {
     "name": "stdout",
     "output_type": "stream",
     "text": [
      "<class 'pandas.core.frame.DataFrame'>\n",
      "RangeIndex: 1808 entries, 0 to 1807\n",
      "Data columns (total 54 columns):\n",
      " #   Column      Non-Null Count  Dtype         \n",
      "---  ------      --------------  -----         \n",
      " 0   ID          1808 non-null   object        \n",
      " 1   YEAR        1797 non-null   float64       \n",
      " 2   DATE        1797 non-null   datetime64[ns]\n",
      " 3   DAY_WEEK    1795 non-null   object        \n",
      " 4   TIME        1797 non-null   object        \n",
      " 5   TYPE        1795 non-null   object        \n",
      " 6   SOURCE      1699 non-null   object        \n",
      " 7   XFINAL      1731 non-null   float64       \n",
      " 8   Xkm         1730 non-null   float64       \n",
      " 9   YFINAL      1731 non-null   float64       \n",
      " 10  Ykm         1731 non-null   float64       \n",
      " 11  Address     1730 non-null   object        \n",
      " 12  Main        1731 non-null   float64       \n",
      " 13  RoadType    1726 non-null   object        \n",
      " 14  ISINTERSEC  1807 non-null   float64       \n",
      " 15  TRACT       1731 non-null   float64       \n",
      " 16  CouncilDIS  1731 non-null   float64       \n",
      " 17  Councillor  1726 non-null   object        \n",
      " 18  PlanningDi  1726 non-null   object        \n",
      " 19  OIF1        1805 non-null   float64       \n",
      " 20  OIF2        1808 non-null   int64         \n",
      " 21  OIF3        1808 non-null   int64         \n",
      " 22  OIF4        1808 non-null   int64         \n",
      " 23  BLFinal     1808 non-null   int64         \n",
      " 24  CS          1808 non-null   int64         \n",
      " 25  LIGHTING    1557 non-null   object        \n",
      " 26  Indoor      1781 non-null   float64       \n",
      " 27  Light       1743 non-null   float64       \n",
      " 28  LightEng    1797 non-null   float64       \n",
      " 29  WEATHER     1594 non-null   object        \n",
      " 30  PrecipCond  1797 non-null   float64       \n",
      " 31  AtmosCondi  1797 non-null   float64       \n",
      " 32  DayNight    1797 non-null   float64       \n",
      " 33  Tmax        1797 non-null   float64       \n",
      " 34  Tmin        1797 non-null   float64       \n",
      " 35  Tavg        1797 non-null   float64       \n",
      " 36  Temprange   1797 non-null   float64       \n",
      " 37  SunriseTim  1797 non-null   object        \n",
      " 38  SunsetTime  1797 non-null   object        \n",
      " 39  SnowFall    1797 non-null   float64       \n",
      " 40  PrecipTota  1797 non-null   float64       \n",
      " 41  Fault       1807 non-null   float64       \n",
      " 42  Doored      1804 non-null   float64       \n",
      " 43  HelmetDocu  1807 non-null   float64       \n",
      " 44  TaxiFinal   1807 non-null   float64       \n",
      " 45  hitrunfina  1807 non-null   float64       \n",
      " 46  AlcoholFin  1807 non-null   float64       \n",
      " 47  INJURED     1804 non-null   float64       \n",
      " 48  TRANSPORTE  1804 non-null   float64       \n",
      " 49  TREATED     1804 non-null   float64       \n",
      " 50  GENDER      1730 non-null   object        \n",
      " 51  ETHNICITY   1730 non-null   object        \n",
      " 52  AGE         1669 non-null   float64       \n",
      " 53  Narrative   1806 non-null   object        \n",
      "dtypes: datetime64[ns](1), float64(32), int64(5), object(16)\n",
      "memory usage: 762.9+ KB\n"
     ]
    }
   ],
   "source": [
    "bike_df_orig = pd.read_excel('data/Final_Bike_Collision_Database.xlsx')\n",
    "bike_df_orig.info()"
   ]
  },
  {
   "cell_type": "markdown",
   "metadata": {},
   "source": [
    "**Xkm** and **Ykm** encode the location of the accident. For this project I'm not interested in accidents that don't have a location, so I'll drop the rows with missing locations.\n",
    "\n",
    "I also want to make sure there aren't outliers in the location data. The Xkm and Ykm values are meter coordinates in a Massachusetts-specific geographic system. I'll convert them to latitude and logitude and make sure that they don't exceed the map of Boston."
   ]
  },
  {
   "cell_type": "code",
   "execution_count": 12,
   "metadata": {},
   "outputs": [
    {
     "name": "stdout",
     "output_type": "stream",
     "text": [
      "Upper Right: \n",
      "42.385920811282396 -71.00003640589748\n",
      "Bottom Right:\n",
      "42.23530626734878 -71.00003640589748\n",
      "Top Right: \n",
      "42.385920811282396 -71.17443656586595\n",
      "Bottom Left: \n",
      "42.23530626734878 -71.17443656586595\n"
     ]
    }
   ],
   "source": [
    "bike_df = pd.DataFrame(bike_df_orig[(bike_df_orig.Xkm > 0) & (bike_df_orig.Ykm > 0)])\n",
    "\n",
    "# convert the bike data locations into latitude and longitudes and find the geographic extent\n",
    "inProj = Proj('epsg:26986')\n",
    "outProj = Proj('epsg:4326')\n",
    "xmax,ymax = bike_df['Xkm'].max(),bike_df['Ykm'].max()\n",
    "xmax2,ymax2 = transform(inProj,outProj,xmax,ymax)\n",
    "print ('Upper Right: ')\n",
    "print (xmax2,ymax2)\n",
    "\n",
    "xmin,ymin = bike_df['Xkm'].min(),bike_df['Ykm'].min()\n",
    "xmin2,ymin2 = transform(inProj,outProj,xmin,ymin)\n",
    "\n",
    "print('Bottom Right:')\n",
    "print(xmin2, ymax2)\n",
    "\n",
    "print('Top Right: ')\n",
    "print(xmax2, ymin2)\n",
    "\n",
    "print ('Bottom Left: ')\n",
    "print (xmin2,ymin2)"
   ]
  },
  {
   "cell_type": "markdown",
   "metadata": {},
   "source": [
    "The other columns we may be interested in are RoadType and ISINTERSECT but we can find that data from our other data sets as well, so I'll consider data cleaning on Bike Collision data done at this point."
   ]
  },
  {
   "cell_type": "code",
   "execution_count": 38,
   "metadata": {},
   "outputs": [],
   "source": [
    "#output saved bike info for later use\n",
    "bike_df.to_csv(r'data/cleaned_data/bike_accident_clean.csv')"
   ]
  },
  {
   "cell_type": "markdown",
   "metadata": {},
   "source": [
    "### Car Accident Data ###\n",
    "Car accident crash data is from kaggle. https://www.kaggle.com/sobhanmoosavi/us-accidents and shows car accidents in 2019."
   ]
  },
  {
   "cell_type": "code",
   "execution_count": 6,
   "metadata": {},
   "outputs": [
    {
     "data": {
      "text/plain": [
       "2974335"
      ]
     },
     "execution_count": 6,
     "metadata": {},
     "output_type": "execute_result"
    }
   ],
   "source": [
    "car_df = pd.read_csv('data/US_Accidents_Dec19.csv')\n",
    "len(car_df)"
   ]
  },
  {
   "cell_type": "markdown",
   "metadata": {},
   "source": [
    "This is a massive file with nearly 3 million rows and that covers the whole of the US, so the first task is to limit it to the same area as the bike accidents above."
   ]
  },
  {
   "cell_type": "code",
   "execution_count": 27,
   "metadata": {},
   "outputs": [
    {
     "data": {
      "text/plain": [
       "6343"
      ]
     },
     "execution_count": 27,
     "metadata": {},
     "output_type": "execute_result"
    }
   ],
   "source": [
    "# To capture accidents that may have happened at the edges of the bike collision area\n",
    "# keep accidents that either start or end within the area\n",
    "car_df = car_df[((car_df['Start_Lat'] <= xmax2) & (car_df['Start_Lat'] >= xmin2) & \n",
    "                 (car_df['Start_Lng'] <= ymax2) & (car_df['Start_Lng'] >= ymin2) |\n",
    "                (car_df['End_Lat'] <= xmax2) & (car_df['End_Lat'] >= xmin2) & \n",
    "                 (car_df['End_Lng'] <= ymax2) & (car_df['End_Lng'] >= ymin2))]\n",
    "\n",
    "# Re-index because we've removed a lot of values\n",
    "car_df = car_df.reset_index()\n",
    "\n",
    "len(car_df)"
   ]
  },
  {
   "cell_type": "markdown",
   "metadata": {},
   "source": [
    "No other cleaning is necessary on this data, since the only thing I'm interested in is accident locations.\n",
    "\n",
    "The Mass DOT geospatial system is convenient for this project, so I'll add new columns to contain that data."
   ]
  },
  {
   "cell_type": "code",
   "execution_count": 31,
   "metadata": {},
   "outputs": [
    {
     "data": {
      "text/plain": [
       "6343"
      ]
     },
     "execution_count": 31,
     "metadata": {},
     "output_type": "execute_result"
    }
   ],
   "source": [
    "inProj = Proj('epsg:4326')\n",
    "outProj = Proj('epsg:26986')\n",
    "\n",
    "#loop through car datafram to create a list of lists containing the new coordinates\n",
    "points_list = []\n",
    "for index, row in car_df.iterrows():\n",
    "    points_row = []\n",
    "    start_points = list(transform(inProj,outProj,row['Start_Lat'],row['Start_Lng']))\n",
    "    points_row.append(start_points[0])\n",
    "    points_row.append(start_points[1])\n",
    "    end_points = list(transform(inProj,outProj,row['End_Lat'],row['End_Lng']))\n",
    "    points_row.append(end_points[0])\n",
    "    points_row.append(end_points[1])\n",
    "    points_list.append(points_row)\n",
    "\n",
    "converted_car_df = pd.DataFrame(points_list, columns=['Start_Xkm', 'Start_Ykm', 'End_Xkm', 'End_Ykm'])\n",
    "len(converted_car_df)\n",
    "#car_df[['Start_Xkm', 'Start_Ykm']] = transform(inProj,outProj,car_df['Start_Lat'],car_df['Start_Lng'])\n",
    "\n"
   ]
  },
  {
   "cell_type": "markdown",
   "metadata": {},
   "source": [
    "That was an extremely time-consuming conversion. Here I've outputted the converted data for posterity so I don't have to do that again. Then I'm adding these as columns to the car data, and outputting that as well."
   ]
  },
  {
   "cell_type": "code",
   "execution_count": 40,
   "metadata": {},
   "outputs": [],
   "source": [
    "#output convered car accident locations for later use\n",
    "converted_car_df.to_csv(r'data/cleaned_data/converted_car_locs.csv')\n",
    "\n"
   ]
  },
  {
   "cell_type": "code",
   "execution_count": 35,
   "metadata": {},
   "outputs": [
    {
     "data": {
      "text/html": [
       "<div>\n",
       "<style scoped>\n",
       "    .dataframe tbody tr th:only-of-type {\n",
       "        vertical-align: middle;\n",
       "    }\n",
       "\n",
       "    .dataframe tbody tr th {\n",
       "        vertical-align: top;\n",
       "    }\n",
       "\n",
       "    .dataframe thead th {\n",
       "        text-align: right;\n",
       "    }\n",
       "</style>\n",
       "<table border=\"1\" class=\"dataframe\">\n",
       "  <thead>\n",
       "    <tr style=\"text-align: right;\">\n",
       "      <th></th>\n",
       "      <th>index</th>\n",
       "      <th>ID</th>\n",
       "      <th>Source</th>\n",
       "      <th>TMC</th>\n",
       "      <th>Severity</th>\n",
       "      <th>Start_Time</th>\n",
       "      <th>End_Time</th>\n",
       "      <th>Start_Lat</th>\n",
       "      <th>Start_Lng</th>\n",
       "      <th>End_Lat</th>\n",
       "      <th>...</th>\n",
       "      <th>Traffic_Signal</th>\n",
       "      <th>Turning_Loop</th>\n",
       "      <th>Sunrise_Sunset</th>\n",
       "      <th>Civil_Twilight</th>\n",
       "      <th>Nautical_Twilight</th>\n",
       "      <th>Astronomical_Twilight</th>\n",
       "      <th>Start_Xkm</th>\n",
       "      <th>Start_Ykm</th>\n",
       "      <th>End_Xkm</th>\n",
       "      <th>End_Ykm</th>\n",
       "    </tr>\n",
       "  </thead>\n",
       "  <tbody>\n",
       "    <tr>\n",
       "      <th>0</th>\n",
       "      <td>194279</td>\n",
       "      <td>A-194281</td>\n",
       "      <td>MapQuest</td>\n",
       "      <td>201.0</td>\n",
       "      <td>2</td>\n",
       "      <td>2016-11-30 17:18:00</td>\n",
       "      <td>2016-11-30 18:35:00</td>\n",
       "      <td>42.251457</td>\n",
       "      <td>-71.002701</td>\n",
       "      <td>NaN</td>\n",
       "      <td>...</td>\n",
       "      <td>False</td>\n",
       "      <td>False</td>\n",
       "      <td>Night</td>\n",
       "      <td>Night</td>\n",
       "      <td>Night</td>\n",
       "      <td>Day</td>\n",
       "      <td>241037.320696</td>\n",
       "      <td>889118.737133</td>\n",
       "      <td>NaN</td>\n",
       "      <td>NaN</td>\n",
       "    </tr>\n",
       "    <tr>\n",
       "      <th>1</th>\n",
       "      <td>194286</td>\n",
       "      <td>A-194288</td>\n",
       "      <td>MapQuest</td>\n",
       "      <td>201.0</td>\n",
       "      <td>3</td>\n",
       "      <td>2016-11-30 17:57:43</td>\n",
       "      <td>2016-11-30 19:12:25</td>\n",
       "      <td>42.298656</td>\n",
       "      <td>-71.047501</td>\n",
       "      <td>NaN</td>\n",
       "      <td>...</td>\n",
       "      <td>False</td>\n",
       "      <td>False</td>\n",
       "      <td>Night</td>\n",
       "      <td>Night</td>\n",
       "      <td>Night</td>\n",
       "      <td>Night</td>\n",
       "      <td>237312.630240</td>\n",
       "      <td>894340.699035</td>\n",
       "      <td>NaN</td>\n",
       "      <td>NaN</td>\n",
       "    </tr>\n",
       "    <tr>\n",
       "      <th>2</th>\n",
       "      <td>194332</td>\n",
       "      <td>A-194334</td>\n",
       "      <td>MapQuest</td>\n",
       "      <td>201.0</td>\n",
       "      <td>2</td>\n",
       "      <td>2016-12-01 05:13:34</td>\n",
       "      <td>2016-12-01 05:43:02</td>\n",
       "      <td>42.335854</td>\n",
       "      <td>-71.107498</td>\n",
       "      <td>NaN</td>\n",
       "      <td>...</td>\n",
       "      <td>True</td>\n",
       "      <td>False</td>\n",
       "      <td>Night</td>\n",
       "      <td>Night</td>\n",
       "      <td>Night</td>\n",
       "      <td>Night</td>\n",
       "      <td>232346.360202</td>\n",
       "      <td>898447.945054</td>\n",
       "      <td>NaN</td>\n",
       "      <td>NaN</td>\n",
       "    </tr>\n",
       "    <tr>\n",
       "      <th>3</th>\n",
       "      <td>194338</td>\n",
       "      <td>A-194340</td>\n",
       "      <td>MapQuest</td>\n",
       "      <td>201.0</td>\n",
       "      <td>3</td>\n",
       "      <td>2016-12-01 06:15:12</td>\n",
       "      <td>2016-12-01 06:44:56</td>\n",
       "      <td>42.330719</td>\n",
       "      <td>-71.060905</td>\n",
       "      <td>NaN</td>\n",
       "      <td>...</td>\n",
       "      <td>False</td>\n",
       "      <td>False</td>\n",
       "      <td>Night</td>\n",
       "      <td>Night</td>\n",
       "      <td>Day</td>\n",
       "      <td>Day</td>\n",
       "      <td>236189.025531</td>\n",
       "      <td>897896.294689</td>\n",
       "      <td>NaN</td>\n",
       "      <td>NaN</td>\n",
       "    </tr>\n",
       "    <tr>\n",
       "      <th>4</th>\n",
       "      <td>194397</td>\n",
       "      <td>A-194399</td>\n",
       "      <td>MapQuest</td>\n",
       "      <td>201.0</td>\n",
       "      <td>2</td>\n",
       "      <td>2016-12-01 07:59:19</td>\n",
       "      <td>2016-12-01 08:28:54</td>\n",
       "      <td>42.361366</td>\n",
       "      <td>-71.072342</td>\n",
       "      <td>NaN</td>\n",
       "      <td>...</td>\n",
       "      <td>False</td>\n",
       "      <td>False</td>\n",
       "      <td>Day</td>\n",
       "      <td>Day</td>\n",
       "      <td>Day</td>\n",
       "      <td>Day</td>\n",
       "      <td>235229.359109</td>\n",
       "      <td>901295.621937</td>\n",
       "      <td>NaN</td>\n",
       "      <td>NaN</td>\n",
       "    </tr>\n",
       "  </tbody>\n",
       "</table>\n",
       "<p>5 rows × 54 columns</p>\n",
       "</div>"
      ],
      "text/plain": [
       "    index        ID    Source    TMC  Severity           Start_Time  \\\n",
       "0  194279  A-194281  MapQuest  201.0         2  2016-11-30 17:18:00   \n",
       "1  194286  A-194288  MapQuest  201.0         3  2016-11-30 17:57:43   \n",
       "2  194332  A-194334  MapQuest  201.0         2  2016-12-01 05:13:34   \n",
       "3  194338  A-194340  MapQuest  201.0         3  2016-12-01 06:15:12   \n",
       "4  194397  A-194399  MapQuest  201.0         2  2016-12-01 07:59:19   \n",
       "\n",
       "              End_Time  Start_Lat  Start_Lng  End_Lat  ...  Traffic_Signal  \\\n",
       "0  2016-11-30 18:35:00  42.251457 -71.002701      NaN  ...           False   \n",
       "1  2016-11-30 19:12:25  42.298656 -71.047501      NaN  ...           False   \n",
       "2  2016-12-01 05:43:02  42.335854 -71.107498      NaN  ...            True   \n",
       "3  2016-12-01 06:44:56  42.330719 -71.060905      NaN  ...           False   \n",
       "4  2016-12-01 08:28:54  42.361366 -71.072342      NaN  ...           False   \n",
       "\n",
       "   Turning_Loop Sunrise_Sunset  Civil_Twilight Nautical_Twilight  \\\n",
       "0         False          Night           Night             Night   \n",
       "1         False          Night           Night             Night   \n",
       "2         False          Night           Night             Night   \n",
       "3         False          Night           Night               Day   \n",
       "4         False            Day             Day               Day   \n",
       "\n",
       "  Astronomical_Twilight      Start_Xkm      Start_Ykm End_Xkm End_Ykm  \n",
       "0                   Day  241037.320696  889118.737133     NaN     NaN  \n",
       "1                 Night  237312.630240  894340.699035     NaN     NaN  \n",
       "2                 Night  232346.360202  898447.945054     NaN     NaN  \n",
       "3                   Day  236189.025531  897896.294689     NaN     NaN  \n",
       "4                   Day  235229.359109  901295.621937     NaN     NaN  \n",
       "\n",
       "[5 rows x 54 columns]"
      ]
     },
     "execution_count": 35,
     "metadata": {},
     "output_type": "execute_result"
    }
   ],
   "source": [
    "car_df = pd.concat([car_df, converted_car_df], axis=1)\n",
    "car_df.head()"
   ]
  },
  {
   "cell_type": "code",
   "execution_count": 39,
   "metadata": {},
   "outputs": [],
   "source": [
    "car_df.to_csv(r'data/cleaned_data/car_accidents_cleaned.csv')"
   ]
  },
  {
   "cell_type": "markdown",
   "metadata": {},
   "source": [
    "### Road Data ###\n",
    "There are a couple sources of road data. Mass DOT has a database of road data in a .gpd file (https://geo-massdot.opendata.arcgis.com/datasets/road-inventory-2018). This has geometric data about the roads which will be very helpful, but most of the qualitative road data consists of ids that I don't have translations for.\n",
    "\n",
    "Luckily https://gis.massdot.state.ma.us/roadinventory/ which has translated a lot of the columns in the 2018 DOT database, which was helpful I downloaded 7 files that should cover the area I'm interested in.\n",
    "\n",
    "I need to make sure that these 7 files really cover all of the area I'm interested in. See [this notebook for that exploration](Geographic%20Manipulations.ipynb)."
   ]
  },
  {
   "cell_type": "code",
   "execution_count": 2,
   "metadata": {},
   "outputs": [
    {
     "name": "stdout",
     "output_type": "stream",
     "text": [
      "<class 'pandas.core.frame.DataFrame'>\n",
      "RangeIndex: 66735 entries, 0 to 66734\n",
      "Data columns (total 71 columns):\n",
      " #   Column                           Non-Null Count  Dtype  \n",
      "---  ------                           --------------  -----  \n",
      " 0   OBJECTID                         66735 non-null  int64  \n",
      " 1   NHS                              65187 non-null  object \n",
      " 2   Jurisdictn                       64836 non-null  object \n",
      " 3   Functional Class                 65353 non-null  object \n",
      " 4   Federal Functional Class         65353 non-null  object \n",
      " 5   Federal Aid Eligible Road        29909 non-null  object \n",
      " 6   Facility Type                    58324 non-null  object \n",
      " 7   Urbanized Area                   65353 non-null  object \n",
      " 8   Urban Type                       65353 non-null  object \n",
      " 9   Access Control                   64861 non-null  object \n",
      " 10  Number of Travel Lanes           59588 non-null  float64\n",
      " 11  Opposite Number of Travel Lanes  4406 non-null   float64\n",
      " 12  Surface Type                     64960 non-null  object \n",
      " 13  Surface Width                    64960 non-null  float64\n",
      " 14  Shoulder Width Right             64960 non-null  float64\n",
      " 15  Shldr_Rt_T                       64960 non-null  object \n",
      " 16  Shoulder Width Left              64989 non-null  float64\n",
      " 17  Shldr_Lt_T                       64989 non-null  object \n",
      " 18  Shoulder Width Left.1            64978 non-null  float64\n",
      " 19  Shldr_UL_T                       64978 non-null  object \n",
      " 20  Median Width                     65043 non-null  float64\n",
      " 21  Med_Type                         65043 non-null  object \n",
      " 22  Curb                             56381 non-null  object \n",
      " 23  Left Sidewalk Width              64987 non-null  float64\n",
      " 24  Right Sidewalk Width             64987 non-null  float64\n",
      " 25  Pedestrian Surface Type          2 non-null      object \n",
      " 26  Pedestrian Facility Type         14 non-null     object \n",
      " 27  Cross Slope                      0 non-null      float64\n",
      " 28  Off-road Path Width              0 non-null      float64\n",
      " 29  Street Operation                 57771 non-null  object \n",
      " 30  Speed Limit                      30884 non-null  float64\n",
      " 31  Speed Limit Opposing Direction   30124 non-null  float64\n",
      " 32  Speed Limit.1                    533 non-null    float64\n",
      " 33  Truck Exclusion Type             4566 non-null   object \n",
      " 34  Truck Exclusion Time             4566 non-null   object \n",
      " 35  Truck Permit                     3320 non-null   object \n",
      " 36  Truck Network                    653 non-null    object \n",
      " 37  Truck Route                      4558 non-null   object \n",
      " 38  Right Of Way Width               55999 non-null  float64\n",
      " 39  Structural Condition             56814 non-null  object \n",
      " 40  Terrain Type                     64895 non-null  object \n",
      " 41  Toll Road                        424 non-null    float64\n",
      " 42  Metropolitian Highway System     769 non-null    object \n",
      " 43  City                             65879 non-null  object \n",
      " 44  Municipal Type                   65873 non-null  float64\n",
      " 45  County                           65879 non-null  object \n",
      " 46  Highway District                 65879 non-null  float64\n",
      " 47  MPO                              0 non-null      float64\n",
      " 48  RPA                              65878 non-null  object \n",
      " 49  RTA                              65873 non-null  object \n",
      " 50  Street Name                      59504 non-null  object \n",
      " 51  From Street Name                 58801 non-null  object \n",
      " 52  To Street Name                   58553 non-null  object \n",
      " 53  AADT                             56326 non-null  float64\n",
      " 54  AADT Year                        29215 non-null  float64\n",
      " 55  AADT Derivation                  29215 non-null  object \n",
      " 56  Station Number                   751 non-null    float64\n",
      " 57  StationID                        751 non-null    object \n",
      " 58  Mileage_Counted                  58324 non-null  object \n",
      " 59  Route Priority                   66658 non-null  float64\n",
      " 60  Length                           66735 non-null  float64\n",
      " 61  Route ID                         66735 non-null  object \n",
      " 62  From Measure                     66735 non-null  float64\n",
      " 63  To Measure                       66735 non-null  float64\n",
      " 64  created_user                     0 non-null      float64\n",
      " 65  created_date                     0 non-null      float64\n",
      " 66  last_edited_user                 0 non-null      float64\n",
      " 67  last_edited_date                 0 non-null      float64\n",
      " 68  x                                0 non-null      float64\n",
      " 69  y                                0 non-null      float64\n",
      " 70  geometry                         66735 non-null  object \n",
      "dtypes: float64(32), int64(1), object(38)\n",
      "memory usage: 36.1+ MB\n"
     ]
    }
   ],
   "source": [
    "# Read in combined gpd file of boston roads\n",
    "# Not reading as geopandas file because it hit a maximum recursion depth error\n",
    "# I'm going to see if I can read it in as a regular dataframe, then convert it\n",
    "boston_df = pd.read_csv('data/cleaned_data/boston_roads_gpd.csv', \n",
    "                        dtype={'Pedestrian Surface Type': 'str',\n",
    "                               'Pedestrian Facility Type': 'str',\n",
    "                               'Truck Network': 'str',\n",
    "                               'Shldr_UL_T': 'str',\n",
    "                               'Metropolitian Highway System': 'str',\n",
    "                               'StationID': 'str'})\n",
    "boston_df.info()"
   ]
  },
  {
   "cell_type": "markdown",
   "metadata": {},
   "source": [
    "There are a lot of missing columns with data I might find interesting, pedistrian surface. I'm going to read in the full roads database, trim to only Boston data, and see if I can find the missing values."
   ]
  },
  {
   "cell_type": "code",
   "execution_count": 3,
   "metadata": {},
   "outputs": [
    {
     "name": "stdout",
     "output_type": "stream",
     "text": [
      "<class 'geopandas.geodataframe.GeoDataFrame'>\n",
      "RangeIndex: 573677 entries, 0 to 573676\n",
      "Data columns (total 70 columns):\n",
      " #   Column           Non-Null Count   Dtype   \n",
      "---  ------           --------------   -----   \n",
      " 0   Route_ID         573677 non-null  object  \n",
      " 1   From_Measure     573677 non-null  float64 \n",
      " 2   To_Measure       573677 non-null  float64 \n",
      " 3   Route_System     573676 non-null  object  \n",
      " 4   Route_Number     573676 non-null  object  \n",
      " 5   Route_Direction  558198 non-null  object  \n",
      " 6   Rd_Seg_ID        217904 non-null  float64 \n",
      " 7   Facility         465908 non-null  float64 \n",
      " 8   Mile_Count       463858 non-null  float64 \n",
      " 9   F_Class          563956 non-null  float64 \n",
      " 10  Urban_Area       563682 non-null  object  \n",
      " 11  Urban_Type       563682 non-null  float64 \n",
      " 12  F_F_Class        563956 non-null  float64 \n",
      " 13  Jurisdictn       562317 non-null  object  \n",
      " 14  NHS              561914 non-null  float64 \n",
      " 15  Fd_Aid_Rd        216217 non-null  float64 \n",
      " 16  Control          553173 non-null  float64 \n",
      " 17  Num_Lanes        557503 non-null  float64 \n",
      " 18  Opp_Lanes        557308 non-null  float64 \n",
      " 19  Surface_Tp       553698 non-null  float64 \n",
      " 20  Surface_Wd       553707 non-null  float64 \n",
      " 21  Shldr_Rt_W       553667 non-null  float64 \n",
      " 22  Shldr_Rt_T       553668 non-null  float64 \n",
      " 23  Shldr_Lt_W       554141 non-null  float64 \n",
      " 24  Shldr_Lt_T       554136 non-null  float64 \n",
      " 25  Shldr_UL_W       553741 non-null  float64 \n",
      " 26  Shldr_UL_T       553725 non-null  float64 \n",
      " 27  Med_Width        554017 non-null  float64 \n",
      " 28  Med_Type         553890 non-null  float64 \n",
      " 29  Curb             457226 non-null  float64 \n",
      " 30  Lt_Sidewlk       554668 non-null  float64 \n",
      " 31  Rt_Sidewlk       554682 non-null  float64 \n",
      " 32  Pd_Sf_Type       1959 non-null    float64 \n",
      " 33  Pd_Fc_Type       1358 non-null    float64 \n",
      " 34  Cr_Slope         0 non-null       object  \n",
      " 35  Path_Width       1958 non-null    float64 \n",
      " 36  Operation        454819 non-null  float64 \n",
      " 37  Speed_Lim        238520 non-null  float64 \n",
      " 38  Op_Dir_SL        218215 non-null  float64 \n",
      " 39  Speed            51657 non-null   float64 \n",
      " 40  Truck            0 non-null       object  \n",
      " 41  T_Exc_Type       550933 non-null  float64 \n",
      " 42  T_Exc_Time       550933 non-null  float64 \n",
      " 43  Trk_Permit       6112 non-null    object  \n",
      " 44  Trk_Netwrk       2432 non-null    float64 \n",
      " 45  Truck_Rte        550933 non-null  float64 \n",
      " 46  ROW_Width        440674 non-null  float64 \n",
      " 47  Struct_Cnd       453228 non-null  float64 \n",
      " 48  Terrain          553737 non-null  float64 \n",
      " 49  Toll_Road        1279 non-null    float64 \n",
      " 50  MHS              465 non-null     float64 \n",
      " 51  City             565970 non-null  float64 \n",
      " 52  Mun_Type         563740 non-null  float64 \n",
      " 53  County           565969 non-null  float64 \n",
      " 54  Hwy_Dist         565954 non-null  float64 \n",
      " 55  MPO              573677 non-null  object  \n",
      " 56  RPA              564405 non-null  object  \n",
      " 57  RTA              563518 non-null  object  \n",
      " 58  St_Name          561600 non-null  object  \n",
      " 59  Fm_St_Name       561604 non-null  object  \n",
      " 60  To_St_Name       561578 non-null  object  \n",
      " 61  City_Maint       560816 non-null  float64 \n",
      " 62  AADT             449344 non-null  float64 \n",
      " 63  AADT_Year        213100 non-null  float64 \n",
      " 64  AADT_Deriv       213092 non-null  float64 \n",
      " 65  Statn_Num        9722 non-null    float64 \n",
      " 66  StationID        9561 non-null    object  \n",
      " 67  Length           573677 non-null  float64 \n",
      " 68  Shape_Length     573677 non-null  float64 \n",
      " 69  geometry         573677 non-null  geometry\n",
      "dtypes: float64(53), geometry(1), object(16)\n",
      "memory usage: 306.4+ MB\n"
     ]
    }
   ],
   "source": [
    "roads_2018 = gpd.read_file('data\\RoadInv2018.gdb', layer=0)\n",
    "roads_2018.info()"
   ]
  },
  {
   "cell_type": "markdown",
   "metadata": {},
   "source": [
    "To limit roads_2018 to only boston roads, I'll do a join. I'll end up with a bunch of extra columns but it will make sure I get missing data that is in roads_2018 and not in boston_df"
   ]
  },
  {
   "cell_type": "code",
   "execution_count": 4,
   "metadata": {},
   "outputs": [],
   "source": [
    "# First set the index so it matches the index of boston_df\n",
    "roads_2018.index.name = 'OBJECTID'"
   ]
  },
  {
   "cell_type": "code",
   "execution_count": 5,
   "metadata": {},
   "outputs": [],
   "source": [
    "boston_df.set_index(keys=['OBJECTID'], inplace=True)"
   ]
  },
  {
   "cell_type": "code",
   "execution_count": 6,
   "metadata": {},
   "outputs": [],
   "source": [
    "# Don't need to add geometry again so I'll drop it from boston_df\n",
    "boston_df = boston_df.drop(columns='geometry')\n",
    "\n",
    "# join with roads_2018\n",
    "b_df = pd.merge(boston_df, roads_2018, on='OBJECTID', how='inner', suffixes=('_2017', '_2018'))"
   ]
  },
  {
   "cell_type": "code",
   "execution_count": 7,
   "metadata": {},
   "outputs": [
    {
     "name": "stdout",
     "output_type": "stream",
     "text": [
      "<class 'pandas.core.frame.DataFrame'>\n",
      "Int64Index: 66735 entries, 1168 to 549313\n",
      "Data columns (total 139 columns):\n",
      " #   Column                           Non-Null Count  Dtype   \n",
      "---  ------                           --------------  -----   \n",
      " 0   NHS_2017                         65187 non-null  object  \n",
      " 1   Jurisdictn_2017                  64836 non-null  object  \n",
      " 2   Functional Class                 65353 non-null  object  \n",
      " 3   Federal Functional Class         65353 non-null  object  \n",
      " 4   Federal Aid Eligible Road        29909 non-null  object  \n",
      " 5   Facility Type                    58324 non-null  object  \n",
      " 6   Urbanized Area                   65353 non-null  object  \n",
      " 7   Urban Type                       65353 non-null  object  \n",
      " 8   Access Control                   64861 non-null  object  \n",
      " 9   Number of Travel Lanes           59588 non-null  float64 \n",
      " 10  Opposite Number of Travel Lanes  4406 non-null   float64 \n",
      " 11  Surface Type                     64960 non-null  object  \n",
      " 12  Surface Width                    64960 non-null  float64 \n",
      " 13  Shoulder Width Right             64960 non-null  float64 \n",
      " 14  Shldr_Rt_T_2017                  64960 non-null  object  \n",
      " 15  Shoulder Width Left              64989 non-null  float64 \n",
      " 16  Shldr_Lt_T_2017                  64989 non-null  object  \n",
      " 17  Shoulder Width Left.1            64978 non-null  float64 \n",
      " 18  Shldr_UL_T_2017                  64978 non-null  object  \n",
      " 19  Median Width                     65043 non-null  float64 \n",
      " 20  Med_Type_2017                    65043 non-null  object  \n",
      " 21  Curb_2017                        56381 non-null  object  \n",
      " 22  Left Sidewalk Width              64987 non-null  float64 \n",
      " 23  Right Sidewalk Width             64987 non-null  float64 \n",
      " 24  Pedestrian Surface Type          2 non-null      object  \n",
      " 25  Pedestrian Facility Type         14 non-null     object  \n",
      " 26  Cross Slope                      0 non-null      float64 \n",
      " 27  Off-road Path Width              0 non-null      float64 \n",
      " 28  Street Operation                 57771 non-null  object  \n",
      " 29  Speed Limit                      30884 non-null  float64 \n",
      " 30  Speed Limit Opposing Direction   30124 non-null  float64 \n",
      " 31  Speed Limit.1                    533 non-null    float64 \n",
      " 32  Truck Exclusion Type             4566 non-null   object  \n",
      " 33  Truck Exclusion Time             4566 non-null   object  \n",
      " 34  Truck Permit                     3320 non-null   object  \n",
      " 35  Truck Network                    653 non-null    object  \n",
      " 36  Truck Route                      4558 non-null   object  \n",
      " 37  Right Of Way Width               55999 non-null  float64 \n",
      " 38  Structural Condition             56814 non-null  object  \n",
      " 39  Terrain Type                     64895 non-null  object  \n",
      " 40  Toll Road                        424 non-null    float64 \n",
      " 41  Metropolitian Highway System     769 non-null    object  \n",
      " 42  City_2017                        65879 non-null  object  \n",
      " 43  Municipal Type                   65873 non-null  float64 \n",
      " 44  County_2017                      65879 non-null  object  \n",
      " 45  Highway District                 65879 non-null  float64 \n",
      " 46  MPO_2017                         0 non-null      float64 \n",
      " 47  RPA_2017                         65878 non-null  object  \n",
      " 48  RTA_2017                         65873 non-null  object  \n",
      " 49  Street Name                      59504 non-null  object  \n",
      " 50  From Street Name                 58801 non-null  object  \n",
      " 51  To Street Name                   58553 non-null  object  \n",
      " 52  AADT_2017                        56326 non-null  float64 \n",
      " 53  AADT Year                        29215 non-null  float64 \n",
      " 54  AADT Derivation                  29215 non-null  object  \n",
      " 55  Station Number                   751 non-null    float64 \n",
      " 56  StationID_2017                   751 non-null    object  \n",
      " 57  Mileage_Counted                  58324 non-null  object  \n",
      " 58  Route Priority                   66658 non-null  float64 \n",
      " 59  Length_2017                      66735 non-null  float64 \n",
      " 60  Route ID                         66735 non-null  object  \n",
      " 61  From Measure                     66735 non-null  float64 \n",
      " 62  To Measure                       66735 non-null  float64 \n",
      " 63  created_user                     0 non-null      float64 \n",
      " 64  created_date                     0 non-null      float64 \n",
      " 65  last_edited_user                 0 non-null      float64 \n",
      " 66  last_edited_date                 0 non-null      float64 \n",
      " 67  x                                0 non-null      float64 \n",
      " 68  y                                0 non-null      float64 \n",
      " 69  Route_ID                         66735 non-null  object  \n",
      " 70  From_Measure                     66735 non-null  float64 \n",
      " 71  To_Measure                       66735 non-null  float64 \n",
      " 72  Route_System                     66735 non-null  object  \n",
      " 73  Route_Number                     66735 non-null  object  \n",
      " 74  Route_Direction                  65295 non-null  object  \n",
      " 75  Rd_Seg_ID                        30744 non-null  float64 \n",
      " 76  Facility                         58682 non-null  float64 \n",
      " 77  Mile_Count                       58674 non-null  float64 \n",
      " 78  F_Class                          65526 non-null  float64 \n",
      " 79  Urban_Area                       65526 non-null  object  \n",
      " 80  Urban_Type                       65526 non-null  float64 \n",
      " 81  F_F_Class                        65526 non-null  float64 \n",
      " 82  Jurisdictn_2018                  65584 non-null  object  \n",
      " 83  NHS_2018                         65439 non-null  float64 \n",
      " 84  Fd_Aid_Rd                        30458 non-null  float64 \n",
      " 85  Control                          64597 non-null  float64 \n",
      " 86  Num_Lanes                        64932 non-null  float64 \n",
      " 87  Opp_Lanes                        64928 non-null  float64 \n",
      " 88  Surface_Tp                       64626 non-null  float64 \n",
      " 89  Surface_Wd                       64626 non-null  float64 \n",
      " 90  Shldr_Rt_W                       64622 non-null  float64 \n",
      " 91  Shldr_Rt_T_2018                  64622 non-null  float64 \n",
      " 92  Shldr_Lt_W                       64624 non-null  float64 \n",
      " 93  Shldr_Lt_T_2018                  64624 non-null  float64 \n",
      " 94  Shldr_UL_W                       64596 non-null  float64 \n",
      " 95  Shldr_UL_T_2018                  64593 non-null  float64 \n",
      " 96  Med_Width                        64616 non-null  float64 \n",
      " 97  Med_Type_2018                    64616 non-null  float64 \n",
      " 98  Curb_2018                        56638 non-null  float64 \n",
      " 99  Lt_Sidewlk                       64654 non-null  float64 \n",
      " 100 Rt_Sidewlk                       64662 non-null  float64 \n",
      " 101 Pd_Sf_Type                       115 non-null    float64 \n",
      " 102 Pd_Fc_Type                       121 non-null    float64 \n",
      " 103 Cr_Slope                         0 non-null      object  \n",
      " 104 Path_Width                       138 non-null    float64 \n",
      " 105 Operation                        57236 non-null  float64 \n",
      " 106 Speed_Lim                        32549 non-null  float64 \n",
      " 107 Op_Dir_SL                        30755 non-null  float64 \n",
      " 108 Speed                            1387 non-null   float64 \n",
      " 109 Truck                            0 non-null      object  \n",
      " 110 T_Exc_Type                       64271 non-null  float64 \n",
      " 111 T_Exc_Time                       64271 non-null  float64 \n",
      " 112 Trk_Permit                       1593 non-null   object  \n",
      " 113 Trk_Netwrk                       299 non-null    float64 \n",
      " 114 Truck_Rte                        64271 non-null  float64 \n",
      " 115 ROW_Width                        55620 non-null  float64 \n",
      " 116 Struct_Cnd                       57077 non-null  float64 \n",
      " 117 Terrain                          64620 non-null  float64 \n",
      " 118 Toll_Road                        63 non-null     float64 \n",
      " 119 MHS                              1 non-null      float64 \n",
      " 120 City_2018                        66135 non-null  float64 \n",
      " 121 Mun_Type                         65946 non-null  float64 \n",
      " 122 County_2018                      66135 non-null  float64 \n",
      " 123 Hwy_Dist                         66135 non-null  float64 \n",
      " 124 MPO_2018                         66735 non-null  object  \n",
      " 125 RPA_2018                         65996 non-null  object  \n",
      " 126 RTA_2018                         65943 non-null  object  \n",
      " 127 St_Name                          65388 non-null  object  \n",
      " 128 Fm_St_Name                       65388 non-null  object  \n",
      " 129 To_St_Name                       65386 non-null  object  \n",
      " 130 City_Maint                       65394 non-null  float64 \n",
      " 131 AADT_2018                        56499 non-null  float64 \n",
      " 132 AADT_Year                        29779 non-null  float64 \n",
      " 133 AADT_Deriv                       29773 non-null  float64 \n",
      " 134 Statn_Num                        623 non-null    float64 \n",
      " 135 StationID_2018                   623 non-null    object  \n",
      " 136 Length_2018                      66735 non-null  float64 \n",
      " 137 Shape_Length                     66735 non-null  float64 \n",
      " 138 geometry                         66735 non-null  geometry\n",
      "dtypes: float64(85), geometry(1), object(53)\n",
      "memory usage: 71.3+ MB\n"
     ]
    }
   ],
   "source": [
    "b_df.info(verbose=True, null_counts=True)"
   ]
  },
  {
   "cell_type": "markdown",
   "metadata": {},
   "source": [
    "Going to drop columns that are definitely useless because they are empty or nearly empty.\n",
    "\n",
    "- Pedestrian Surface Type\n",
    "- Pedestrian Facility Type \n",
    "- Off-road Path Width\n",
    "- MPO\n",
    "- created_user \n",
    "- created_date\n",
    "- last_edited_user\n",
    "- last_edited_date\n",
    "- x\n",
    "- y\n",
    "- Cr_Slope\n",
    "- Cross Slope\n",
    "- Truck \n",
    "- MHS\n",
    "\n",
    "Also going to drop columns that duplicate new columns I added, and the new column has more values\n",
    "\n",
    "- Speed Limit.1 \n",
    "- AADT_2017\n",
    "- AADT Year\n",
    "- Length_2017\n",
    "- MPO_2017\n",
    "\n",
    "The duplicates I'm keeping is where I need the 2017 column to interpret the 2018 column"
   ]
  },
  {
   "cell_type": "code",
   "execution_count": 8,
   "metadata": {},
   "outputs": [],
   "source": [
    "b_df = b_df.drop(columns=['Pedestrian Surface Type', 'Pedestrian Facility Type',\n",
    "                                   'Off-road Path Width', 'created_user', 'created_date',\n",
    "                                   'last_edited_user', 'last_edited_date', 'x', 'y', 'Cr_Slope', \n",
    "                                   'Cross Slope', 'Truck', 'MHS', 'Speed Limit.1',\n",
    "                                   'AADT_2017', 'AADT Year', 'Length_2017', 'MPO_2017'])"
   ]
  },
  {
   "cell_type": "markdown",
   "metadata": {},
   "source": [
    "Spot checking some values for outliers.\n"
   ]
  },
  {
   "cell_type": "code",
   "execution_count": 9,
   "metadata": {},
   "outputs": [
    {
     "data": {
      "text/plain": [
       "<matplotlib.axes._subplots.AxesSubplot at 0x2192a1cd548>"
      ]
     },
     "execution_count": 9,
     "metadata": {},
     "output_type": "execute_result"
    },
    {
     "data": {
      "image/png": "[encoded data removed]",
      "text/plain": [
       "<Figure size 432x288 with 1 Axes>"
      ]
     },
     "metadata": {
      "needs_background": "light"
     },
     "output_type": "display_data"
    }
   ],
   "source": [
    "boston_df['Surface Width'].hist()"
   ]
  },
  {
   "cell_type": "code",
   "execution_count": 10,
   "metadata": {},
   "outputs": [
    {
     "data": {
      "text/plain": [
       "<matplotlib.axes._subplots.AxesSubplot at 0x2192a958fc8>"
      ]
     },
     "execution_count": 10,
     "metadata": {},
     "output_type": "execute_result"
    },
    {
     "data": {
      "image/png": "[encoded data removed]",
      "text/plain": [
       "<Figure size 432x288 with 1 Axes>"
      ]
     },
     "metadata": {
      "needs_background": "light"
     },
     "output_type": "display_data"
    }
   ],
   "source": [
    "boston_df['Median Width'].hist()"
   ]
  },
  {
   "cell_type": "markdown",
   "metadata": {},
   "source": [
    "Median width may not end up being a very interesting value, based on the above."
   ]
  },
  {
   "cell_type": "code",
   "execution_count": 11,
   "metadata": {},
   "outputs": [
    {
     "data": {
      "text/plain": [
       "0.0      61062\n",
       "3.0        480\n",
       "4.0        450\n",
       "5.0        342\n",
       "10.0       265\n",
       "         ...  \n",
       "17.0         3\n",
       "85.0         3\n",
       "34.0         2\n",
       "56.0         2\n",
       "190.0        2\n",
       "Name: Median Width, Length: 62, dtype: int64"
      ]
     },
     "execution_count": 11,
     "metadata": {},
     "output_type": "execute_result"
    }
   ],
   "source": [
    "boston_df['Median Width'].value_counts()"
   ]
  },
  {
   "cell_type": "markdown",
   "metadata": {},
   "source": [
    "190m width for the road median seems like it might be an outlier, but it's not impossible on a highway. I may want to remove highways, but we'll see, and they don't make up many of the roads in Boston anyway."
   ]
  },
  {
   "cell_type": "code",
   "execution_count": null,
   "metadata": {},
   "outputs": [],
   "source": [
    "# output to file\n",
    "b_df.to_csv(r'data/cleaned_data/boston_roads_gpd.csv')"
   ]
  }
 ],
 "metadata": {
  "kernelspec": {
   "display_name": "Python 3",
   "language": "python",
   "name": "python3"
  },
  "language_info": {
   "codemirror_mode": {
    "name": "ipython",
    "version": 3
   },
   "file_extension": ".py",
   "mimetype": "text/x-python",
   "name": "python",
   "nbconvert_exporter": "python",
   "pygments_lexer": "ipython3",
   "version": "3.7.6"
  }
 },
 "nbformat": 4,
 "nbformat_minor": 4
}
