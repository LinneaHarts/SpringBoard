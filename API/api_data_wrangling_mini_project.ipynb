{
 "cells": [
  {
   "cell_type": "markdown",
   "metadata": {},
   "source": [
    "This exercise will require you to pull some data from the Qunadl API. Qaundl is currently the most widely used aggregator of financial market data."
   ]
  },
  {
   "cell_type": "markdown",
   "metadata": {},
   "source": [
    "As a first step, you will need to register a free account on the http://www.quandl.com website."
   ]
  },
  {
   "cell_type": "markdown",
   "metadata": {},
   "source": [
    "After you register, you will be provided with a unique API key, that you should store:"
   ]
  },
  {
   "cell_type": "code",
   "execution_count": 1,
   "metadata": {},
   "outputs": [],
   "source": [
    "# Store the API key as a string - according to PEP8, constants are always named in all upper case\n",
    "API_KEY = ''"
   ]
  },
  {
   "cell_type": "markdown",
   "metadata": {},
   "source": [
    "Qaundl has a large number of data sources, but, unfortunately, most of them require a Premium subscription. Still, there are also a good number of free datasets."
   ]
  },
  {
   "cell_type": "markdown",
   "metadata": {},
   "source": [
    "For this mini project, we will focus on equities data from the Frankfurt Stock Exhange (FSE), which is available for free. We'll try and analyze the stock prices of a company called Carl Zeiss Meditec, which manufactures tools for eye examinations, as well as medical lasers for laser eye surgery: https://www.zeiss.com/meditec/int/home.html. The company is listed under the stock ticker AFX_X."
   ]
  },
  {
   "cell_type": "markdown",
   "metadata": {},
   "source": [
    "You can find the detailed Quandl API instructions here: https://docs.quandl.com/docs/time-series"
   ]
  },
  {
   "cell_type": "markdown",
   "metadata": {},
   "source": [
    "While there is a dedicated Python package for connecting to the Quandl API, we would prefer that you use the *requests* package, which can be easily downloaded using *pip* or *conda*. You can find the documentation for the package here: http://docs.python-requests.org/en/master/ "
   ]
  },
  {
   "cell_type": "markdown",
   "metadata": {},
   "source": [
    "Finally, apart from the *requests* package, you are encouraged to not use any third party Python packages, such as *pandas*, and instead focus on what's available in the Python Standard Library (the *collections* module might come in handy: https://pymotw.com/3/collections/ ).\n",
    "Also, since you won't have access to DataFrames, you are encouraged to us Python's native data structures - preferably dictionaries, though some questions can also be answered using lists.\n",
    "You can read more on these data structures here: https://docs.python.org/3/tutorial/datastructures.html"
   ]
  },
  {
   "cell_type": "markdown",
   "metadata": {},
   "source": [
    "Keep in mind that the JSON responses you will be getting from the API map almost one-to-one to Python's dictionaries. Unfortunately, they can be very nested, so make sure you read up on indexing dictionaries in the documentation provided above."
   ]
  },
  {
   "cell_type": "code",
   "execution_count": 2,
   "metadata": {},
   "outputs": [],
   "source": [
    "# First, import the relevant modules\n",
    "import requests\n"
   ]
  },
  {
   "cell_type": "code",
   "execution_count": 3,
   "metadata": {},
   "outputs": [
    {
     "data": {
      "text/plain": [
       "{'dataset_data': {'limit': None,\n",
       "  'transform': None,\n",
       "  'column_index': None,\n",
       "  'column_names': ['Date',\n",
       "   'Open',\n",
       "   'High',\n",
       "   'Low',\n",
       "   'Close',\n",
       "   'Change',\n",
       "   'Traded Volume',\n",
       "   'Turnover',\n",
       "   'Last Price of the Day',\n",
       "   'Daily Traded Units',\n",
       "   'Daily Turnover'],\n",
       "  'start_date': '2020-02-10',\n",
       "  'end_date': '2020-02-10',\n",
       "  'frequency': 'daily',\n",
       "  'data': [['2020-02-10',\n",
       "    114.0,\n",
       "    121.1,\n",
       "    107.0,\n",
       "    109.4,\n",
       "    None,\n",
       "    449853.0,\n",
       "    50064696.0,\n",
       "    None,\n",
       "    None,\n",
       "    None]],\n",
       "  'collapse': None,\n",
       "  'order': None}}"
      ]
     },
     "execution_count": 3,
     "metadata": {},
     "output_type": "execute_result"
    }
   ],
   "source": [
    "# Now, call the Quandl API and pull out a small sample of the data (only one day) to get a glimpse\n",
    "# into the JSON structure that will be returned\n",
    "p = {'api_key': API_KEY, 'start_date': '2020-02-10', 'end_date': '2020-02-10'}\n",
    "r = requests.get('https://www.quandl.com/api/v3/datasets/FSE/AFX_X/data.json', params=p)\n",
    "#model = r.json()\n",
    "r.json()"
   ]
  },
  {
   "cell_type": "code",
   "execution_count": 4,
   "metadata": {},
   "outputs": [],
   "source": [
    "# Inspect the JSON structure of the object you created, and take note of how nested it is,\n",
    "# as well as the overall structure\n"
   ]
  },
  {
   "cell_type": "markdown",
   "metadata": {},
   "source": [
    "These are your tasks for this mini project:\n",
    "\n",
    "1. Collect data from the Franfurt Stock Exchange, for the ticker AFX_X, for the whole year 2017 (keep in mind that the date format is YYYY-MM-DD).\n",
    "2. Convert the returned JSON object into a Python dictionary.\n",
    "3. Calculate what the highest and lowest opening prices were for the stock in this period.\n",
    "4. What was the largest change in any one day (based on High and Low price)?\n",
    "5. What was the largest change between any two days (based on Closing Price)?\n",
    "6. What was the average daily trading volume during this year?\n",
    "7. (Optional) What was the median trading volume during this year. (Note: you may need to implement your own function for calculating the median.)"
   ]
  },
  {
   "cell_type": "code",
   "execution_count": 5,
   "metadata": {},
   "outputs": [],
   "source": [
    "#Task 1: Collect data from the Franfurt Stock Exchange, for the ticker AFX_X, for the whole year 2017 (keep in mind that the date format is YYYY-MM-DD).\n",
    "p = {'api_key': API_KEY, 'start_date': '2017-01-01', 'end_date': '2017-12-31'}\n",
    "r = requests.get('https://www.quandl.com/api/v3/datasets/FSE/AFX_X/data.json', params=p)\n"
   ]
  },
  {
   "cell_type": "code",
   "execution_count": 6,
   "metadata": {},
   "outputs": [
    {
     "data": {
      "text/plain": [
       "dict"
      ]
     },
     "execution_count": 6,
     "metadata": {},
     "output_type": "execute_result"
    }
   ],
   "source": [
    "#Task 2: Convert the returned JSON object into a Python dictionary.\n",
    "stock_dict = r.json()\n",
    "type(stock_dict)\n",
    "\n",
    "#It already is a dictionary, so hopefully this is all you had in mind"
   ]
  },
  {
   "cell_type": "code",
   "execution_count": 7,
   "metadata": {},
   "outputs": [
    {
     "name": "stdout",
     "output_type": "stream",
     "text": [
      "Highest Opening Stock Price: 53.11\n",
      "Lowest Opening Stock Price: 34.0\n"
     ]
    }
   ],
   "source": [
    "#Task 3: Calculate what the highest and lowest opening prices were for the stock in this period.\n",
    "high = 0\n",
    "low = 100000000\n",
    "for row in stock_dict['dataset_data']['data']:\n",
    "    #print(row[1])\n",
    "    #deal with null values for opening price\n",
    "    if row[1] is not None:\n",
    "        opening = row[1]\n",
    "    else:\n",
    "        opening = 0\n",
    "    if opening > high:\n",
    "        high = opening\n",
    "    if (opening < low) and (opening > 0):\n",
    "        low = opening\n",
    "print('Highest Opening Stock Price: ' + str(high))\n",
    "print('Lowest Opening Stock Price: ' + str(low))"
   ]
  },
  {
   "cell_type": "code",
   "execution_count": 8,
   "metadata": {},
   "outputs": [
    {
     "name": "stdout",
     "output_type": "stream",
     "text": [
      "Largest change in one day: 2.8100000000000023\n"
     ]
    }
   ],
   "source": [
    "#Task 4: What was the largest change in any one day (based on High and Low price)?\n",
    "change = 0\n",
    "for row in stock_dict['dataset_data']['data']:\n",
    "    temp_change = row[2] - row[3]\n",
    "    if temp_change > change:\n",
    "        change = temp_change\n",
    "print('Largest change in one day: ' + str(change))"
   ]
  },
  {
   "cell_type": "code",
   "execution_count": 9,
   "metadata": {},
   "outputs": [
    {
     "name": "stdout",
     "output_type": "stream",
     "text": [
      "Largest change between two days: -1.4699999999999989\n"
     ]
    }
   ],
   "source": [
    "#Task 5: What was the largest change between any two days (based on Closing Price)?\n",
    "#I'm assuming the change could be positive or negative\n",
    "change2 = 0\n",
    "last_closing = 0\n",
    "positive = True\n",
    "for row in stock_dict['dataset_data']['data']:\n",
    "    if last_closing == 0:\n",
    "        last_closing = row[4]\n",
    "    else:\n",
    "        temp_change = last_closing - row[4]\n",
    "        if (abs(temp_change) > change2):\n",
    "            change2 = temp_change\n",
    "            positive = temp_change < 0\n",
    "        last_closing = row[4]\n",
    "if (positive):\n",
    "    print('Largest change between two days: +' + str(change2))\n",
    "else:\n",
    "    print('Largest change between two days: -' + str(change2))"
   ]
  },
  {
   "cell_type": "code",
   "execution_count": 10,
   "metadata": {},
   "outputs": [
    {
     "name": "stdout",
     "output_type": "stream",
     "text": [
      "Average trading volume during 2017: 89124.33725490196\n"
     ]
    }
   ],
   "source": [
    "#Task 6: What was the average daily trading volume during this year?\n",
    "total_vol = 0\n",
    "trading_days = len(stock_dict['dataset_data']['data'])\n",
    "for row in stock_dict['dataset_data']['data']:\n",
    "    total_vol += row[6]\n",
    "avg_vol = total_vol/trading_days\n",
    "print('Average trading volume during 2017: ' + str(avg_vol))"
   ]
  },
  {
   "cell_type": "code",
   "execution_count": 11,
   "metadata": {},
   "outputs": [
    {
     "name": "stdout",
     "output_type": "stream",
     "text": [
      "Median trading volume during 2017: 76286.0\n"
     ]
    }
   ],
   "source": [
    "#Task 7: (Optional) What was the median trading volume during this year. (Note: you may need to implement your own function for calculating the median.)\n",
    "\n",
    "#create list of all trading volumes\n",
    "volumes = []\n",
    "for row in stock_dict['dataset_data']['data']:\n",
    "    volumes.append(row[6])\n",
    "\n",
    "#sort trading volumes\n",
    "volumes.sort()\n",
    "\n",
    "#location of the median is the midpoint of the list\n",
    "median_loc = len(volumes)/2\n",
    "\n",
    "#if list has an odd number of items, median_loc will end with .5, and the right location is median_loc - .5 \n",
    "if (median_loc // 1 > 0):\n",
    "    median = volumes[int(median_loc - 0.5)]\n",
    "else:\n",
    "#otherwise list has an even number of items, and median is the average of the middle two items\n",
    "    median = (volumes[int(median_loc - 1)] + volumes[int(median_loc)])/2\n",
    "    \n",
    "print('Median trading volume during 2017: ' + str(median))"
   ]
  },
  {
   "cell_type": "code",
   "execution_count": null,
   "metadata": {},
   "outputs": [],
   "source": []
  },
  {
   "cell_type": "code",
   "execution_count": null,
   "metadata": {},
   "outputs": [],
   "source": []
  },
  {
   "cell_type": "code",
   "execution_count": null,
   "metadata": {},
   "outputs": [],
   "source": []
  },
  {
   "cell_type": "code",
   "execution_count": null,
   "metadata": {},
   "outputs": [],
   "source": []
  }
 ],
 "metadata": {
  "kernelspec": {
   "display_name": "Python 3",
   "language": "python",
   "name": "python3"
  },
  "language_info": {
   "codemirror_mode": {
    "name": "ipython",
    "version": 3
   },
   "file_extension": ".py",
   "mimetype": "text/x-python",
   "name": "python",
   "nbconvert_exporter": "python",
   "pygments_lexer": "ipython3",
   "version": "3.7.6"
  }
 },
 "nbformat": 4,
 "nbformat_minor": 2
}
